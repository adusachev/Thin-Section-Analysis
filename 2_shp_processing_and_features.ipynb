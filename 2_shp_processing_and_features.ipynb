{
 "cells": [
  {
   "cell_type": "markdown",
   "id": "0065f935-34c1-4d9e-9a21-df9e51939bdc",
   "metadata": {},
   "source": [
    "# Обработка shape-файла и характеристики шлифа\n",
    "\n",
    "Обработка shape-файла производится при создании экземпляра класса ThinSection из модуля \"thin_section_class.py\"."
   ]
  },
  {
   "cell_type": "code",
   "execution_count": 33,
   "id": "78a36b80-c4f1-4d4b-a08b-6e7461f3cdee",
   "metadata": {},
   "outputs": [],
   "source": [
    "import numpy as np\n",
    "import pandas as pd\n",
    "\n",
    "import scipy.stats as sps\n",
    "from tqdm.notebook import tqdm\n",
    "import matplotlib.pyplot as plt\n",
    "from matplotlib import rcParams\n",
    "%matplotlib inline\n",
    "import seaborn as sns\n",
    "sns.set(style='ticks', font_scale=1.7)\n",
    "\n",
    "import os"
   ]
  },
  {
   "cell_type": "code",
   "execution_count": 25,
   "id": "89430831-95da-434e-a0b7-44cf8f5e632a",
   "metadata": {},
   "outputs": [],
   "source": [
    "from thin_section_class import ThinSection\n",
    "import pickle"
   ]
  },
  {
   "cell_type": "code",
   "execution_count": 3,
   "id": "c6889d13-326e-4e11-bbad-479914b5c04f",
   "metadata": {},
   "outputs": [],
   "source": [
    "def save_pickle(data, path_to_pickle_files):\n",
    "    \"\"\"\n",
    "    Cохраняет объект как pickle файл\n",
    "    :param data: объект класса ThinSection\n",
    "    :param path_to_pickle_files: путь сохранения файла\n",
    "    :return: None\n",
    "    \"\"\"\n",
    "    name = data.name\n",
    "    \n",
    "    object_name = name + '_object'\n",
    "    path_to_object = os.path.join(path_to_pickle_files, object_name) \n",
    "    file = open(path_to_object, 'wb')\n",
    "    pickle.dump(data, file)\n",
    "    file.close()"
   ]
  },
  {
   "cell_type": "code",
   "execution_count": 4,
   "id": "863eebd5-9d70-4b4a-b0d6-d6a85bc705b9",
   "metadata": {},
   "outputs": [],
   "source": [
    "def get_shp_filename(path_to_shape_files, file_directory=''):\n",
    "    \"\"\"\n",
    "    Ищет .shp файл в папке и возвращает его название\n",
    "    :param path_to_shape_files: путь до директории с папками, в которых лежат shape файлы\n",
    "    :param file_directory: название конкретной папки\n",
    "    :return: название файла \"file_name.shp\"\n",
    "    \"\"\"\n",
    "    p = os.path.join(path_to_shape_files, file_directory)\n",
    "    for name in os.listdir(p):\n",
    "        if name[-4:] == '.shp':\n",
    "            return name"
   ]
  },
  {
   "cell_type": "markdown",
   "id": "7eb22365-8787-41e1-bd51-7c1035e1ab2b",
   "metadata": {},
   "source": [
    "# Создание объектов ThinSection и сохранение pickle файлов"
   ]
  },
  {
   "cell_type": "code",
   "execution_count": 5,
   "id": "fb212080-f30b-4383-b6e8-5661175ab885",
   "metadata": {},
   "outputs": [],
   "source": [
    "path_to_shape_files = '.\\\\shp_files\\\\'\n",
    "path_to_pickle_files = '.\\\\pickle_files\\\\'"
   ]
  },
  {
   "cell_type": "markdown",
   "id": "4683301a-de42-4064-b5d6-b92156d7fe7f",
   "metadata": {},
   "source": [
    "Входными данными при создании экземпляра класса ThinSection являются путь до .shp файла, назавние шлифа и тектонический тип шлифа \n",
    "\n",
    "При создании экземпляра автоматически вычисляются базовые геометрические характеристики шлифа\n",
    "\n",
    "После этого могут быть вызваны следующие методы:\n",
    "- `perform_IXY_classification()` - для определения топологических характеристик\n",
    "- `perform_stat_analysis()` - для проведения статистического анализа\n",
    "- `calc_entropy()`, `calc_fractal_dimension()` - для вычисления энтропии и фрактаьлной размерности "
   ]
  },
  {
   "cell_type": "code",
   "execution_count": 9,
   "id": "ecca9090-d8fb-4875-85da-3cf70df442c2",
   "metadata": {},
   "outputs": [],
   "source": [
    "name = '10-1а' \n",
    "shp_filename = get_shp_filename(path_to_shape_files, name)  # название .shp файла\n",
    "path_to_shp = os.path.join(path_to_shape_files, name, shp_filename)  # полный путь до .shp файла\n",
    "\n",
    "tect_type = 'Катаклазит'\n",
    "\n",
    "# создание объекта\n",
    "data = ThinSection(path_to_shp, name, tect_type)\n",
    "\n",
    "# вычисление топологических характеристик\n",
    "data.perform_IXY_classification(epsilon=5)\n",
    "\n",
    "# выполнение статистического анализа\n",
    "data.perform_stat_analysis()  \n",
    "\n",
    "# вычисление энтропии и фрактальной размерности\n",
    "data.calc_entropy()\n",
    "data.calc_fractal_dimension() \n",
    "\n",
    "# сохранение pickle\n",
    "save_pickle(data, path_to_pickle_files)"
   ]
  },
  {
   "cell_type": "code",
   "execution_count": null,
   "id": "90a3ce1d-f48c-4535-82c8-e842e3c34821",
   "metadata": {},
   "outputs": [],
   "source": []
  },
  {
   "cell_type": "markdown",
   "id": "6d203c4a-dd13-49c4-ac63-9b7621c9a70d",
   "metadata": {},
   "source": [
    "# Чтение данных"
   ]
  },
  {
   "cell_type": "code",
   "execution_count": 26,
   "id": "a5dafbde-a100-4895-9625-0725b40fe9d9",
   "metadata": {},
   "outputs": [],
   "source": [
    "filename = '10-1а_object'\n",
    "file = open(path_to_pickle_files + filename, 'rb')\n",
    "data = pickle.load(file)\n",
    "file.close()"
   ]
  },
  {
   "cell_type": "markdown",
   "id": "6a017492-fdf5-4073-84af-e54407b9eb7b",
   "metadata": {},
   "source": [
    "## Атрибуты объекта"
   ]
  },
  {
   "cell_type": "markdown",
   "id": "6bd01069-7114-41cc-a5c8-76037d303fac",
   "metadata": {},
   "source": [
    "### Базовые характеристики шлифа"
   ]
  },
  {
   "cell_type": "code",
   "execution_count": 7,
   "id": "2ade63c2-1f73-49ef-b140-34b09fe9148b",
   "metadata": {},
   "outputs": [
    {
     "data": {
      "text/plain": [
       "('10-1а', 'Катаклазит')"
      ]
     },
     "execution_count": 7,
     "metadata": {},
     "output_type": "execute_result"
    }
   ],
   "source": [
    "# название шлифа, тектонический тип\n",
    "data.name, data.tectonic_type"
   ]
  },
  {
   "cell_type": "code",
   "execution_count": 8,
   "id": "5853a7a0-b33e-48b0-8eb6-facfd4815406",
   "metadata": {},
   "outputs": [
    {
     "data": {
      "text/plain": [
       "69984"
      ]
     },
     "execution_count": 8,
     "metadata": {},
     "output_type": "execute_result"
    }
   ],
   "source": [
    "# общее количество трещин в шлифе\n",
    "data.lineaments_sample_size"
   ]
  },
  {
   "cell_type": "code",
   "execution_count": 9,
   "id": "dd3bc58c-d615-4b2b-aea5-1c65a23d4b54",
   "metadata": {},
   "outputs": [
    {
     "data": {
      "text/plain": [
       "array([[ 8348.49843587, -9264.20229406,  8335.        , -9284.        ],\n",
       "       [ 8335.        , -9284.        ,  8341.        , -9317.        ]])"
      ]
     },
     "execution_count": 9,
     "metadata": {},
     "output_type": "execute_result"
    }
   ],
   "source": [
    "# представление отдельной трещины (координаты начал и концов ее сегментов [x1, y1, x2, y2]) \n",
    "data.lineaments_sample[0]"
   ]
  },
  {
   "cell_type": "code",
   "execution_count": 10,
   "id": "04913a5a-3f68-45db-9da3-ad8b6898ea63",
   "metadata": {},
   "outputs": [
    {
     "data": {
      "text/plain": [
       "array([0.15042018, 0.17825434, 0.20978023, ..., 0.15821945, 0.23427376,\n",
       "       0.2352493 ])"
      ]
     },
     "execution_count": 10,
     "metadata": {},
     "output_type": "execute_result"
    }
   ],
   "source": [
    "# выборка длин трещин\n",
    "data.lineaments_length_sample"
   ]
  },
  {
   "cell_type": "code",
   "execution_count": 11,
   "id": "3838ac45-0bdf-41e8-98b3-1560635d1c70",
   "metadata": {},
   "outputs": [
    {
     "data": {
      "text/plain": [
       "array([80.7066914 , 48.43363036, 79.90249562, ..., 21.80140949,\n",
       "       10.69651074,  2.51687566])"
      ]
     },
     "execution_count": 11,
     "metadata": {},
     "output_type": "execute_result"
    }
   ],
   "source": [
    "# выборка азимутов трещин\n",
    "data.lineaments_azimuth_sample"
   ]
  },
  {
   "cell_type": "markdown",
   "id": "0f4c574b-599d-4910-8783-0e24ce7546b8",
   "metadata": {},
   "source": [
    "### Статистические характеристики шлифа"
   ]
  },
  {
   "cell_type": "markdown",
   "id": "a10db112-0777-4885-827b-db622e5a26a4",
   "metadata": {},
   "source": [
    "**1. Оценки максимального правдоподобия для выборки длин трещин**\n",
    "\n",
    "Рассматриваемые распределения:\n",
    "\n",
    "- Степенное\n",
    "\n",
    "$$p(x, \\alpha) = \\frac{\\alpha - 1}{x_{min}} \\left( \\frac{x}{x_{min}} \\right)^{-\\alpha}$$\n",
    "\n",
    "- Экспоненциальное\n",
    "$$ p(x, \\lambda) = \\lambda \\exp{(\\lambda x_{min})} \\cdot \\exp{(-\\lambda x)} $$\n",
    "\n",
    "- Лог-нормальное\n",
    "$$ p(x, \\mu, \\sigma) = \\sqrt{\\frac{2}{\\pi \\sigma^2}} \\left[\\text{erfc}\\left( \\frac{\\ln{x_{min}} - \\mu}{\\sigma \\sqrt{2}} \\right) \\right]^{-1}  \\cdot \\frac{1}{x} \\exp{\\left[ - \\frac{(\\ln{x} - \\mu)^2}{2 \\sigma^2} \\right]}$$"
   ]
  },
  {
   "cell_type": "code",
   "execution_count": 14,
   "id": "8ea9777a-6499-46f3-9120-5108f787cb70",
   "metadata": {},
   "outputs": [
    {
     "data": {
      "image/png": "[encoded data removed]",
      "text/plain": [
       "<Figure size 936x432 with 1 Axes>"
      ]
     },
     "metadata": {},
     "output_type": "display_data"
    }
   ],
   "source": [
    "# отрисовка оценок максимального правдоподобия\n",
    "data.draw_length_MLE()"
   ]
  },
  {
   "cell_type": "markdown",
   "id": "7f0a98ec-56f1-4a7e-bb88-f37de4670509",
   "metadata": {},
   "source": [
    "Параметры найденных распределений"
   ]
  },
  {
   "cell_type": "code",
   "execution_count": 16,
   "id": "17d3f235-8f08-47c7-af88-e08e6bde746d",
   "metadata": {},
   "outputs": [
    {
     "name": "stdout",
     "output_type": "stream",
     "text": [
      "powerlaw alpha: 3.121583706846542\n",
      "exponential lambda: 8.915528757340386\n",
      "lognormal mu: -2.383674113236403\n",
      "lognormal sigma: 0.7751351191536715\n"
     ]
    }
   ],
   "source": [
    "print('powerlaw alpha:', data.powerlaw_alpha_length)\n",
    "print('exponential lambda:', data.exponential_lambda_length)\n",
    "print('lognormal mu:', data.lognormal_mu_length)\n",
    "print('lognormal sigma:', data.lognormal_sigma_length)"
   ]
  },
  {
   "cell_type": "code",
   "execution_count": null,
   "id": "b45be7b4-e6ea-40c6-947a-cd8cad0dbbf2",
   "metadata": {},
   "outputs": [],
   "source": []
  },
  {
   "cell_type": "markdown",
   "id": "62662b09-d0f0-4b50-b22a-70d1fc726d0d",
   "metadata": {},
   "source": [
    "**2. Результаты работы критерия отношения правдоподобия**"
   ]
  },
  {
   "cell_type": "markdown",
   "id": "75537823-1207-4bdd-8fd1-4d1a5e496e86",
   "metadata": {},
   "source": [
    "Гипотеза: $H_0: ~ P=P_0 ~~\\text{vs}.~~ H_1: ~ P=P_1$\n",
    "\n",
    "Логарифмическое отношение правдоподобия: $R = \\sum \\limits_{i=0}^n \\ln{ \\left( \\frac{P_{0}(x_i)}{P_{1}(x_i)} \\right) }$\n",
    "\n",
    "Критерий: \n",
    "1) $R > 0  \\Rightarrow H_0$ не отклоняется\n",
    "2) $R < 0  \\Rightarrow H_0$ отклоняется\n",
    "\n",
    "p-value: $p = \\text{erfc} \\left(  \\frac{|R|}{\\sigma \\sqrt{2n}} \\right)$\n",
    "\n",
    "$p<0.1 ~ \\Rightarrow ~$ результат статистически значим "
   ]
  },
  {
   "cell_type": "code",
   "execution_count": 17,
   "id": "665b4eca-3f08-4753-b9ff-9939213cfc49",
   "metadata": {},
   "outputs": [
    {
     "data": {
      "text/html": [
       "<div>\n",
       "<style scoped>\n",
       "    .dataframe tbody tr th:only-of-type {\n",
       "        vertical-align: middle;\n",
       "    }\n",
       "\n",
       "    .dataframe tbody tr th {\n",
       "        vertical-align: top;\n",
       "    }\n",
       "\n",
       "    .dataframe thead th {\n",
       "        text-align: right;\n",
       "    }\n",
       "</style>\n",
       "<table border=\"1\" class=\"dataframe\">\n",
       "  <thead>\n",
       "    <tr style=\"text-align: right;\">\n",
       "      <th></th>\n",
       "      <th>R</th>\n",
       "      <th>p</th>\n",
       "      <th>better fit</th>\n",
       "      <th>significant</th>\n",
       "    </tr>\n",
       "  </thead>\n",
       "  <tbody>\n",
       "    <tr>\n",
       "      <th>powerlaw vs. exponential</th>\n",
       "      <td>-7.090135</td>\n",
       "      <td>0.0</td>\n",
       "      <td>exponential</td>\n",
       "      <td>True</td>\n",
       "    </tr>\n",
       "    <tr>\n",
       "      <th>powerlaw vs. lognormal</th>\n",
       "      <td>-33.939993</td>\n",
       "      <td>0.0</td>\n",
       "      <td>lognormal</td>\n",
       "      <td>True</td>\n",
       "    </tr>\n",
       "    <tr>\n",
       "      <th>lognormal vs. exponential</th>\n",
       "      <td>18.277555</td>\n",
       "      <td>0.0</td>\n",
       "      <td>lognormal</td>\n",
       "      <td>True</td>\n",
       "    </tr>\n",
       "  </tbody>\n",
       "</table>\n",
       "</div>"
      ],
      "text/plain": [
       "                                   R    p   better fit  significant\n",
       "powerlaw vs. exponential   -7.090135  0.0  exponential         True\n",
       "powerlaw vs. lognormal    -33.939993  0.0    lognormal         True\n",
       "lognormal vs. exponential  18.277555  0.0    lognormal         True"
      ]
     },
     "execution_count": 17,
     "metadata": {},
     "output_type": "execute_result"
    }
   ],
   "source": [
    "# таблица с результатами работы критерия\n",
    "data.stat_tests_lineaments_length"
   ]
  },
  {
   "cell_type": "code",
   "execution_count": null,
   "id": "b8a24aa3-2a7e-41b2-b699-a0dcfe265592",
   "metadata": {},
   "outputs": [],
   "source": []
  },
  {
   "cell_type": "markdown",
   "id": "4e380b2f-a980-45c5-b2dc-8b26bb4c0b05",
   "metadata": {},
   "source": [
    "**3. Энтропия и фрактальная размерность**\n",
    "\n",
    "1) Вычислялась взвешенная энтропия Шеннона азимутального распределения трещин с учетом их плотности. Данное значение энтропии характеризует степень пространственной неоднородности образца\n",
    "\n",
    "\n",
    "2) Фрактальная размерность определялась с помощью box-counting алгоритма"
   ]
  },
  {
   "cell_type": "code",
   "execution_count": 19,
   "id": "e369a5b5-3d5a-441d-88bb-136036cbc585",
   "metadata": {},
   "outputs": [
    {
     "data": {
      "text/plain": [
       "3.522592732906241"
      ]
     },
     "execution_count": 19,
     "metadata": {},
     "output_type": "execute_result"
    }
   ],
   "source": [
    "# энтропия\n",
    "data.entropy_rho_az"
   ]
  },
  {
   "cell_type": "code",
   "execution_count": 18,
   "id": "0154f734-b178-4d9e-9d67-c5054a996c71",
   "metadata": {},
   "outputs": [
    {
     "data": {
      "text/plain": [
       "1.7621789638083856"
      ]
     },
     "execution_count": 18,
     "metadata": {},
     "output_type": "execute_result"
    }
   ],
   "source": [
    "# фрактальная размерность\n",
    "data.frac_dim"
   ]
  },
  {
   "cell_type": "code",
   "execution_count": null,
   "id": "3278bd35-97fe-4d5a-a737-f9ae29a2af1c",
   "metadata": {},
   "outputs": [],
   "source": []
  },
  {
   "cell_type": "markdown",
   "id": "2cda52ea-ec5f-40d0-a961-cc4a05439893",
   "metadata": {},
   "source": [
    "### Топологические характеристики шлифа"
   ]
  },
  {
   "cell_type": "markdown",
   "id": "d6d2bf9d-6ca7-4c21-9678-de225b4da739",
   "metadata": {},
   "source": [
    "Для описания топологических свойств сети трещин определяется число вершин $N_X, ~ N_I, ~ N_Y$ следующих типов:\n",
    "\n",
    "- Тип I - свободная вершина, конец трещины\n",
    "- Тип Y - смежная вершина - точка, принадлежащая двум трещинам и являющаяся концом одной из них\n",
    "- Тип X - точка пересечения двух трещин\n",
    "\n"
   ]
  },
  {
   "cell_type": "markdown",
   "id": "8ecc964c-ca3a-4de8-9e49-142d8e26d109",
   "metadata": {},
   "source": [
    "![](images/network_topology.png)"
   ]
  },
  {
   "cell_type": "code",
   "execution_count": 22,
   "id": "205200ff-39fb-4548-bed4-b3054c8a8fc9",
   "metadata": {},
   "outputs": [
    {
     "name": "stdout",
     "output_type": "stream",
     "text": [
      "Число вершин X: 157221\n",
      "Число вершин I: 77208\n",
      "Число вершин Y: 83288\n"
     ]
    }
   ],
   "source": [
    "print('Число вершин X:', data.X_nodes)\n",
    "print('Число вершин I:', data.I_nodes)\n",
    "print('Число вершин Y:', data.Y_nodes)"
   ]
  },
  {
   "cell_type": "markdown",
   "id": "ee9c78b4-92bb-42ff-be02-3af2791c8924",
   "metadata": {},
   "source": [
    "Относительное число вершин X, I, Y:\n",
    "\n",
    "$$\\frac{N_X}{N}, ~ \\frac{N_I}{N}, ~ \\frac{N_Y}{N}, ~~ N = N_X + N_I + N_Y $$"
   ]
  },
  {
   "cell_type": "code",
   "execution_count": 23,
   "id": "7ce091f9-f156-40a1-8764-1b185a6acb02",
   "metadata": {},
   "outputs": [
    {
     "data": {
      "text/plain": [
       "array([0.49484604, 0.24300872, 0.26214524])"
      ]
     },
     "execution_count": 23,
     "metadata": {},
     "output_type": "execute_result"
    }
   ],
   "source": [
    "data.XIY_counts_normed"
   ]
  },
  {
   "cell_type": "code",
   "execution_count": null,
   "id": "a96e86f4-f321-45bb-bda1-4951c85587ef",
   "metadata": {},
   "outputs": [],
   "source": []
  }
 ],
 "metadata": {
  "kernelspec": {
   "display_name": "Python 3",
   "language": "python",
   "name": "python3"
  },
  "language_info": {
   "codemirror_mode": {
    "name": "ipython",
    "version": 3
   },
   "file_extension": ".py",
   "mimetype": "text/x-python",
   "name": "python",
   "nbconvert_exporter": "python",
   "pygments_lexer": "ipython3",
   "version": "3.8.8"
  }
 },
 "nbformat": 4,
 "nbformat_minor": 5
}
