{
 "cells": [
  {
   "cell_type": "markdown",
   "id": "ae647a62-d8dd-487d-8822-5c9999026877",
   "metadata": {},
   "source": [
    "# Обработка shape-файла и извлечение информации для дальнейшего анализа"
   ]
  },
  {
   "cell_type": "markdown",
   "id": "cceb3541-8e97-4e5e-962d-0434ede07d27",
   "metadata": {},
   "source": [
    "Обработка shape-файла производится при создании экземпляра класса `ThinSection` из модуля \"thin_section_class.py\"."
   ]
  },
  {
   "cell_type": "code",
   "execution_count": 1,
   "id": "d1fefd8a-a59e-45aa-9d54-42416fe22821",
   "metadata": {},
   "outputs": [],
   "source": [
    "import numpy as np\n",
    "import os\n",
    "import pickle\n",
    "from thin_section_class import ThinSection"
   ]
  },
  {
   "cell_type": "code",
   "execution_count": 2,
   "id": "79697dc9-dc18-4db4-820d-295bf0218ff1",
   "metadata": {},
   "outputs": [],
   "source": [
    "# путь до директории с папками, в которых хранятся .shp файлы \n",
    "path_to_shape_files = '.\\\\shp_files\\\\'\n",
    "\n",
    "# путь до папки, в которую сохраняются объекты класса ThinSection\n",
    "path_to_pickle_files = '.\\\\saved_objects\\\\'"
   ]
  },
  {
   "cell_type": "markdown",
   "id": "67951cd0-2243-40c7-bd28-bc3c3277c684",
   "metadata": {},
   "source": [
    "## Чтение shape-файла и сохранение координат трещин "
   ]
  },
  {
   "cell_type": "code",
   "execution_count": 6,
   "id": "76d62fa8-cd03-4019-bea6-57eb531aa70b",
   "metadata": {},
   "outputs": [],
   "source": [
    "def get_shp_filename(path_to_shape_files, file_directory):\n",
    "    \"\"\"\n",
    "    Ищет .shp файл в папке и возвращает его название\n",
    "    :param path_to_shape_files: путь до директории с папками, в которых лежат shape файлы\n",
    "    :param file_directory: название конкретной папки\n",
    "    :return: название файла \"file_name.shp\"\n",
    "    \"\"\"\n",
    "    p = os.path.join(path_to_shape_files, file_directory)\n",
    "    \n",
    "    for name in os.listdir(p):\n",
    "        if name[-4:] == '.shp':\n",
    "            return name"
   ]
  },
  {
   "cell_type": "code",
   "execution_count": 8,
   "id": "c159aa97-ad45-4319-a24f-81a8ccefb4a8",
   "metadata": {},
   "outputs": [],
   "source": [
    "def read_shapefile_and_save_lines_sample(name, \n",
    "                                        path_to_shape_files,\n",
    "                                        path_lines_sample,\n",
    "                                        left=-np.inf, right=np.inf, \n",
    "                                        bottom=-np.inf, top=np.inf):\n",
    "    \"\"\"\n",
    "    Создает объект класса ThinSection и сохраняет \n",
    "    текстовый файл с координатами трещин.\n",
    "    Обрезает изображение по заданным координатам, если требуется.\n",
    "    \n",
    "    :param name: название папки с данным shape файлом\n",
    "                 (далее также используется в качестве префикса в названиях других файлов, связанных с этим shape файлом)\n",
    "    :param path_to_shape_files: путь до директории с папками, в которых лежат shape файлы\n",
    "    :param path_lines_sample: путь до директории, к которой хранятся текстовые файлы с координатами трещин\n",
    "    :param left: левая граница для обрезки изображения (мм)\n",
    "    :param right: правая граница для обрезки изображения (мм)\n",
    "    :param bottom: нижняя граница для обрезки изображения (мм)\n",
    "    :param top: верхняя граница для обрезки изображения (мм)\n",
    "    :return: None\n",
    "    \"\"\"\n",
    "    # название .shp файла\n",
    "    shp_filename = get_shp_filename(path_to_shape_files, name)\n",
    "    # полный путь до .shp файла\n",
    "    path_to_shp = os.path.join(path_to_shape_files, name, shp_filename)\n",
    "    # чтение данных\n",
    "    data = ThinSection(path_to_shp,\n",
    "                       left, right, bottom, top)\n",
    "    \n",
    "    # сохранение координат в текстовый файл\n",
    "    filename_lines_sample = name + '_lines_sample.txt'\n",
    "    data.save_lines_sample_txt(path_lines_sample, filename_lines_sample)"
   ]
  },
  {
   "cell_type": "code",
   "execution_count": 9,
   "id": "f174c214-8053-4d05-a223-da65b9e52d2b",
   "metadata": {},
   "outputs": [],
   "source": [
    "name = '55_1'\n",
    "\n",
    "read_shapefile_and_save_lines_sample(name, path_to_shape_files, path_lines_sample)"
   ]
  },
  {
   "cell_type": "markdown",
   "id": "e9b97e84-1135-450d-9ef7-684f436587f6",
   "metadata": {},
   "source": [
    "## Вычисление количества пересечений"
   ]
  },
  {
   "cell_type": "markdown",
   "id": "def23d90-0fa4-4aee-8adb-9ae54ea47690",
   "metadata": {},
   "source": [
    "Далее по сохраненным в текстовом файле координатам программа на C++ вычисляет количество пересечений для каждой трещины (см. директорию `cpp_intersections_counts`, файл `main.cpp`)"
   ]
  },
  {
   "cell_type": "markdown",
   "id": "8de67e08-d36a-4bf9-8342-5290c4832f95",
   "metadata": {},
   "source": [
    "## Сохранение объекта ThinSection для дальнейшей работы"
   ]
  },
  {
   "cell_type": "code",
   "execution_count": 10,
   "id": "3e947438-447c-4771-9c7f-e5551a7e563f",
   "metadata": {},
   "outputs": [],
   "source": [
    "def save_pickle_file(name, path_to_shape_files,\n",
    "                           path_to_pickle_files, \n",
    "                           path_counts,\n",
    "                           left=-np.inf, right=np.inf, bottom=-np.inf, top=np.inf):\n",
    "    \"\"\"\n",
    "    Создает объект класса ThinSection, \n",
    "    считывает уже подсчитанную выборку числа пересечений,\n",
    "    сохраняет полученный объект в виде pickle-файла\n",
    "    \n",
    "    :param name: название папки с данным shape файлом\n",
    "                 (далее также используется в качестве префикса в названиях других файлов, связанных с этим shape файлом)\n",
    "    :param path_to_shape_files: путь до директории с папками, в которых лежат shape файлы\n",
    "    :param path_to_pickle_files: путь до директории, в которой будут лежать pickle объекты\n",
    "    :param path_counts: путь до директории, в которой хранятся текстовые файлы с числом пересечений\n",
    "    :param left: левая граница для обрезки изображения (мм)\n",
    "    :param right: правая граница для обрезки изображения (мм)\n",
    "    :param bottom: нижняя граница для обрезки изображения (мм)\n",
    "    :param top: верхняя граница для обрезки изображения (мм)\n",
    "    :return: None\n",
    "    \"\"\"\n",
    "    # название .shp файла\n",
    "    shp_filename = get_shp_filename(path_to_shape_files, name)\n",
    "    # полный путь до .shp файла\n",
    "    path_to_shp = os.path.join(path_to_shape_files, name, shp_filename)\n",
    "    # чтение данных\n",
    "    data = ThinSection(path_to_shp,\n",
    "                       left, right, bottom, top)\n",
    "\n",
    "    \n",
    "    # чтение выборки пересечений\n",
    "    counts_filename = name + '_counts.txt'\n",
    "    data.read_count_intersections_sample(path=path_counts, filename=counts_filename)\n",
    "    assert data.counts_sample is not None\n",
    "\n",
    "    # сохранение pickle объекта\n",
    "    object_name = name + '_object'\n",
    "    path_to_object = os.path.join(path_to_pickle_files, object_name) \n",
    "    file = open(path_to_object, 'wb')\n",
    "    pickle.dump(data, file)\n",
    "    file.close()"
   ]
  },
  {
   "cell_type": "code",
   "execution_count": 11,
   "id": "aa78d45a-2100-44fa-a53f-55f9f65385d9",
   "metadata": {},
   "outputs": [],
   "source": [
    "name = '55_1'\n",
    "\n",
    "save_pickle_file(name, path_to_shape_files, path_to_pickle_files, path_counts)"
   ]
  },
  {
   "cell_type": "markdown",
   "id": "bc016d1d-8adc-4338-90de-a34f564ae726",
   "metadata": {},
   "source": [
    "Анализ сохраненного объекта будет представлен в следующих .ipynb файлах"
   ]
  },
  {
   "cell_type": "code",
   "execution_count": null,
   "id": "b6d52801-5669-405b-a4eb-40e11db49eef",
   "metadata": {},
   "outputs": [],
   "source": []
  }
 ],
 "metadata": {
  "kernelspec": {
   "display_name": "Python 3",
   "language": "python",
   "name": "python3"
  },
  "language_info": {
   "codemirror_mode": {
    "name": "ipython",
    "version": 3
   },
   "file_extension": ".py",
   "mimetype": "text/x-python",
   "name": "python",
   "nbconvert_exporter": "python",
   "pygments_lexer": "ipython3",
   "version": "3.8.8"
  }
 },
 "nbformat": 4,
 "nbformat_minor": 5
}
