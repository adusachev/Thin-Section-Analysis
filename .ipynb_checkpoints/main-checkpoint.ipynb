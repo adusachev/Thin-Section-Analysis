{
 "cells": [
  {
   "cell_type": "code",
   "execution_count": 1,
   "id": "78a36b80-c4f1-4d4b-a08b-6e7461f3cdee",
   "metadata": {},
   "outputs": [],
   "source": [
    "import numpy as np\n",
    "import pandas as pd\n",
    "import matplotlib.pyplot as plt\n",
    "%matplotlib inline\n",
    "\n",
    "import scipy.stats as sps\n",
    "from tqdm.notebook import tqdm\n",
    "import seaborn as sns\n",
    "sns.set(style='ticks', font_scale=1.7)\n",
    "\n",
    "\n",
    "from matplotlib import rcParams\n",
    "\n",
    "rcParams['figure.figsize'] = 13, 6\n",
    "\n",
    "import os\n",
    "\n",
    "# import shapefile"
   ]
  },
  {
   "cell_type": "code",
   "execution_count": 2,
   "id": "89430831-95da-434e-a0b7-44cf8f5e632a",
   "metadata": {},
   "outputs": [],
   "source": [
    "from thin_section_class import ThinSection\n",
    "import pickle"
   ]
  },
  {
   "cell_type": "code",
   "execution_count": 3,
   "id": "c6889d13-326e-4e11-bbad-479914b5c04f",
   "metadata": {},
   "outputs": [],
   "source": [
    "def save_pickle(data, path_to_pickle_files):\n",
    "    \"\"\"\n",
    "    Cохранение pickle объекта\n",
    "    \"\"\"\n",
    "    name = data.name\n",
    "    \n",
    "    object_name = name + '_object'\n",
    "    path_to_object = os.path.join(path_to_pickle_files, object_name) \n",
    "    file = open(path_to_object, 'wb')\n",
    "    pickle.dump(data, file)\n",
    "    file.close()"
   ]
  },
  {
   "cell_type": "markdown",
   "id": "2cd502e0-c0f6-4e12-9677-c95b82aa6260",
   "metadata": {},
   "source": [
    "# Main"
   ]
  },
  {
   "cell_type": "markdown",
   "id": "6e4ac8bb-afed-4f39-8d12-e3911e735ca7",
   "metadata": {},
   "source": [
    "## Создание словаря тектонических типов"
   ]
  },
  {
   "cell_type": "code",
   "execution_count": 4,
   "id": "22ba0606-3ff8-4123-9e65-afc105f86bef",
   "metadata": {},
   "outputs": [
    {
     "data": {
      "text/html": [
       "<div>\n",
       "<style scoped>\n",
       "    .dataframe tbody tr th:only-of-type {\n",
       "        vertical-align: middle;\n",
       "    }\n",
       "\n",
       "    .dataframe tbody tr th {\n",
       "        vertical-align: top;\n",
       "    }\n",
       "\n",
       "    .dataframe thead th {\n",
       "        text-align: right;\n",
       "    }\n",
       "</style>\n",
       "<table border=\"1\" class=\"dataframe\">\n",
       "  <thead>\n",
       "    <tr style=\"text-align: right;\">\n",
       "      <th></th>\n",
       "      <th>ID</th>\n",
       "      <th>НомерОбразца</th>\n",
       "      <th>ПетрографТипы</th>\n",
       "      <th>ТипыТектонитов</th>\n",
       "      <th>Профили</th>\n",
       "      <th>%матрикса</th>\n",
       "      <th>ТипыДеформаций</th>\n",
       "      <th>Unnamed: 7</th>\n",
       "      <th>Unnamed: 8</th>\n",
       "      <th>Все петрографические типы</th>\n",
       "      <th>Тектониты</th>\n",
       "    </tr>\n",
       "  </thead>\n",
       "  <tbody>\n",
       "    <tr>\n",
       "      <th>0</th>\n",
       "      <td>1</td>\n",
       "      <td>0-2</td>\n",
       "      <td>Гидрослюда</td>\n",
       "      <td>Милонит</td>\n",
       "      <td>Бугульдейка</td>\n",
       "      <td>90</td>\n",
       "      <td>Хрупкие</td>\n",
       "      <td>NaN</td>\n",
       "      <td>NaN</td>\n",
       "      <td>Амфиболит</td>\n",
       "      <td>Монолит</td>\n",
       "    </tr>\n",
       "    <tr>\n",
       "      <th>1</th>\n",
       "      <td>2</td>\n",
       "      <td>1</td>\n",
       "      <td>Гранит</td>\n",
       "      <td>Катаклазит</td>\n",
       "      <td>Бугульдейка</td>\n",
       "      <td>10</td>\n",
       "      <td>Хрупкие</td>\n",
       "      <td>NaN</td>\n",
       "      <td>NaN</td>\n",
       "      <td>Гринтогнейс</td>\n",
       "      <td>Катаклазит</td>\n",
       "    </tr>\n",
       "    <tr>\n",
       "      <th>2</th>\n",
       "      <td>3</td>\n",
       "      <td>3</td>\n",
       "      <td>Гранитогнейс</td>\n",
       "      <td>Катаклазит</td>\n",
       "      <td>Бугульдейка</td>\n",
       "      <td>10</td>\n",
       "      <td>хрупкие</td>\n",
       "      <td>NaN</td>\n",
       "      <td>NaN</td>\n",
       "      <td>Диорит</td>\n",
       "      <td>Бластокатаклазит</td>\n",
       "    </tr>\n",
       "    <tr>\n",
       "      <th>3</th>\n",
       "      <td>4</td>\n",
       "      <td>5</td>\n",
       "      <td>Мрамор</td>\n",
       "      <td>Вмещающая порода</td>\n",
       "      <td>Бугульдейка</td>\n",
       "      <td>0</td>\n",
       "      <td>NaN</td>\n",
       "      <td>NaN</td>\n",
       "      <td>NaN</td>\n",
       "      <td>Габбро</td>\n",
       "      <td>Бластомилонит</td>\n",
       "    </tr>\n",
       "    <tr>\n",
       "      <th>4</th>\n",
       "      <td>5</td>\n",
       "      <td>6</td>\n",
       "      <td>Мрамор</td>\n",
       "      <td>Катаклазит</td>\n",
       "      <td>Бугульдейка</td>\n",
       "      <td>0</td>\n",
       "      <td>Пластичные</td>\n",
       "      <td>NaN</td>\n",
       "      <td>NaN</td>\n",
       "      <td>Мусковитовый сланец</td>\n",
       "      <td>Милонит</td>\n",
       "    </tr>\n",
       "    <tr>\n",
       "      <th>...</th>\n",
       "      <td>...</td>\n",
       "      <td>...</td>\n",
       "      <td>...</td>\n",
       "      <td>...</td>\n",
       "      <td>...</td>\n",
       "      <td>...</td>\n",
       "      <td>...</td>\n",
       "      <td>...</td>\n",
       "      <td>...</td>\n",
       "      <td>...</td>\n",
       "      <td>...</td>\n",
       "    </tr>\n",
       "    <tr>\n",
       "      <th>200</th>\n",
       "      <td>201</td>\n",
       "      <td>14-14-2</td>\n",
       "      <td>NaN</td>\n",
       "      <td>Бластомилонит</td>\n",
       "      <td>NaN</td>\n",
       "      <td>NaN</td>\n",
       "      <td>NaN</td>\n",
       "      <td>NaN</td>\n",
       "      <td>NaN</td>\n",
       "      <td>NaN</td>\n",
       "      <td>NaN</td>\n",
       "    </tr>\n",
       "    <tr>\n",
       "      <th>201</th>\n",
       "      <td>202</td>\n",
       "      <td>39-2</td>\n",
       "      <td>NaN</td>\n",
       "      <td>Катаклазит</td>\n",
       "      <td>NaN</td>\n",
       "      <td>NaN</td>\n",
       "      <td>NaN</td>\n",
       "      <td>NaN</td>\n",
       "      <td>NaN</td>\n",
       "      <td>NaN</td>\n",
       "      <td>NaN</td>\n",
       "    </tr>\n",
       "    <tr>\n",
       "      <th>202</th>\n",
       "      <td>203</td>\n",
       "      <td>39-3</td>\n",
       "      <td>NaN</td>\n",
       "      <td>Катаклазит</td>\n",
       "      <td>NaN</td>\n",
       "      <td>NaN</td>\n",
       "      <td>NaN</td>\n",
       "      <td>NaN</td>\n",
       "      <td>NaN</td>\n",
       "      <td>NaN</td>\n",
       "      <td>NaN</td>\n",
       "    </tr>\n",
       "    <tr>\n",
       "      <th>203</th>\n",
       "      <td>204</td>\n",
       "      <td>78-1</td>\n",
       "      <td>NaN</td>\n",
       "      <td>Бластокатаклазит</td>\n",
       "      <td>NaN</td>\n",
       "      <td>NaN</td>\n",
       "      <td>NaN</td>\n",
       "      <td>NaN</td>\n",
       "      <td>NaN</td>\n",
       "      <td>NaN</td>\n",
       "      <td>NaN</td>\n",
       "    </tr>\n",
       "    <tr>\n",
       "      <th>204</th>\n",
       "      <td>205</td>\n",
       "      <td>120</td>\n",
       "      <td>NaN</td>\n",
       "      <td>Бластомилонит</td>\n",
       "      <td>NaN</td>\n",
       "      <td>NaN</td>\n",
       "      <td>NaN</td>\n",
       "      <td>NaN</td>\n",
       "      <td>NaN</td>\n",
       "      <td>NaN</td>\n",
       "      <td>NaN</td>\n",
       "    </tr>\n",
       "  </tbody>\n",
       "</table>\n",
       "<p>205 rows × 11 columns</p>\n",
       "</div>"
      ],
      "text/plain": [
       "      ID НомерОбразца ПетрографТипы    ТипыТектонитов      Профили %матрикса  \\\n",
       "0      1          0-2    Гидрослюда           Милонит  Бугульдейка        90   \n",
       "1      2            1        Гранит        Катаклазит  Бугульдейка        10   \n",
       "2      3            3  Гранитогнейс        Катаклазит  Бугульдейка        10   \n",
       "3      4            5        Мрамор  Вмещающая порода  Бугульдейка         0   \n",
       "4      5            6        Мрамор        Катаклазит  Бугульдейка         0   \n",
       "..   ...          ...           ...               ...          ...       ...   \n",
       "200  201      14-14-2           NaN     Бластомилонит          NaN       NaN   \n",
       "201  202         39-2           NaN        Катаклазит          NaN       NaN   \n",
       "202  203         39-3           NaN        Катаклазит          NaN       NaN   \n",
       "203  204         78-1           NaN  Бластокатаклазит          NaN       NaN   \n",
       "204  205          120           NaN     Бластомилонит          NaN       NaN   \n",
       "\n",
       "    ТипыДеформаций  Unnamed: 7  Unnamed: 8 Все петрографические типы  \\\n",
       "0          Хрупкие         NaN         NaN                 Амфиболит   \n",
       "1          Хрупкие         NaN         NaN               Гринтогнейс   \n",
       "2          хрупкие         NaN         NaN                    Диорит   \n",
       "3              NaN         NaN         NaN                    Габбро   \n",
       "4       Пластичные         NaN         NaN       Мусковитовый сланец   \n",
       "..             ...         ...         ...                       ...   \n",
       "200            NaN         NaN         NaN                       NaN   \n",
       "201            NaN         NaN         NaN                       NaN   \n",
       "202            NaN         NaN         NaN                       NaN   \n",
       "203            NaN         NaN         NaN                       NaN   \n",
       "204            NaN         NaN         NaN                       NaN   \n",
       "\n",
       "            Тектониты  \n",
       "0             Монолит  \n",
       "1          Катаклазит  \n",
       "2    Бластокатаклазит  \n",
       "3       Бластомилонит  \n",
       "4             Милонит  \n",
       "..                ...  \n",
       "200               NaN  \n",
       "201               NaN  \n",
       "202               NaN  \n",
       "203               NaN  \n",
       "204               NaN  \n",
       "\n",
       "[205 rows x 11 columns]"
      ]
     },
     "execution_count": 4,
     "metadata": {},
     "output_type": "execute_result"
    }
   ],
   "source": [
    "table = pd.read_excel('../ТАБЛИЦА_Петрография_V2.xlsx')\n",
    "# table = pd.read_excel('../таблица_копия_V2_V3.xlsx')\n",
    "table"
   ]
  },
  {
   "cell_type": "code",
   "execution_count": 5,
   "id": "a1ede77d-ece1-48c1-a5cd-ce38d6daa7cf",
   "metadata": {},
   "outputs": [],
   "source": [
    "sample_numbers = table['НомерОбразца'].astype('str').values\n",
    "tectonic_types = table['ТипыТектонитов'].astype('str').values\n",
    "\n",
    "# словарь тектонических типов:\n",
    "# ключ - номер ОБРАЗЦА(не шлифа!), значение - тектонический тип\n",
    "tect_types_dict = dict(zip(sample_numbers, tectonic_types))"
   ]
  },
  {
   "cell_type": "code",
   "execution_count": 6,
   "id": "a9b44a64-e171-4522-934a-0dcb40ea97f5",
   "metadata": {},
   "outputs": [],
   "source": [
    "# tect_types_dict"
   ]
  },
  {
   "cell_type": "code",
   "execution_count": 7,
   "id": "d1740382-33db-4586-a8c7-2463b29c8f5d",
   "metadata": {},
   "outputs": [
    {
     "data": {
      "text/plain": [
       "array(['Бластокатаклазит', 'Бластомилонит', 'Вмещающая порода',\n",
       "       'Катаклазит', 'Милонит', 'Монолит', 'Ультрамилонит'], dtype=object)"
      ]
     },
     "execution_count": 7,
     "metadata": {},
     "output_type": "execute_result"
    }
   ],
   "source": [
    "np.unique(tectonic_types)"
   ]
  },
  {
   "cell_type": "markdown",
   "id": "21738dbe-30dc-4584-a7bd-76fa6effb41a",
   "metadata": {},
   "source": [
    "## Функции для чтения"
   ]
  },
  {
   "cell_type": "code",
   "execution_count": 8,
   "id": "863eebd5-9d70-4b4a-b0d6-d6a85bc705b9",
   "metadata": {},
   "outputs": [],
   "source": [
    "def get_shp_filename(path):\n",
    "    \"\"\"\n",
    "    Ищет .shp файл в папке и возвращает его название\n",
    "    :param path: путь до папки, в которой лежит .shp файл\n",
    "    :return: название файла \"file_name.shp\"\n",
    "    \"\"\"\n",
    "    for filename in os.listdir(path):\n",
    "        if filename[-4:] == '.shp':\n",
    "            return filename"
   ]
  },
  {
   "cell_type": "code",
   "execution_count": 9,
   "id": "7477dabd-15d1-4882-91da-1331b43f8375",
   "metadata": {},
   "outputs": [],
   "source": [
    "def get_shapefiles_info(path, tect_types_dict):\n",
    "    \"\"\"  \n",
    "    :param path: путь до директории, в которой хранятся папки с образцами\n",
    "    :return: 1) path_shp_list - путь до КАЖДОГО .shp файла\n",
    "             2) names_list - названия шлифов (индексация в соответствии с path_shp_list)\n",
    "             3) tectonic_types_list - тектонические типы для каждого шлифа (индексация в соответствии с path_shp_list)\n",
    "    \"\"\"\n",
    "    path_shp_list = []\n",
    "    names_list = []\n",
    "    tectonic_types_list = []\n",
    "\n",
    "    for sample_name in os.listdir(path):\n",
    "\n",
    "        path_to_subfolders = os.path.join(path, sample_name)\n",
    "        \n",
    "        tectonic_type = tect_types_dict[sample_name]\n",
    "\n",
    "        if os.path.exists(os.path.join(path_to_subfolders, 'ГИС')):\n",
    "            path_to_GIS_folder = os.path.join(path_to_subfolders, 'ГИС')\n",
    "            shp_filename = get_shp_filename(path_to_GIS_folder)\n",
    "            path_shp = os.path.join(path_to_GIS_folder, shp_filename)\n",
    "\n",
    "            names_list.append(sample_name)\n",
    "            path_shp_list.append(path_shp)\n",
    "            tectonic_types_list.append(tectonic_type)\n",
    "\n",
    "        else:\n",
    "            thinsections_names = os.listdir(path_to_subfolders)\n",
    "            for thinsection_name in thinsections_names:\n",
    "                path_to_GIS_folder = os.path.join(path_to_subfolders, thinsection_name, 'ГИС')\n",
    "                assert os.path.exists(path_to_GIS_folder), f'There is no GIS folder! Sample: {sample_name}, thinsection name: {thinsection_name}'\n",
    "                shp_filename = get_shp_filename(path_to_GIS_folder)\n",
    "                path_shp = os.path.join(path_to_GIS_folder, shp_filename)\n",
    "\n",
    "                names_list.append(thinsection_name)\n",
    "                path_shp_list.append(path_shp)\n",
    "                tectonic_types_list.append(tectonic_type)\n",
    "                \n",
    "    return path_shp_list, names_list, tectonic_types_list"
   ]
  },
  {
   "cell_type": "markdown",
   "id": "2c54e6ad-78b5-4602-b57a-6f89d43e170c",
   "metadata": {},
   "source": [
    "## Чтение и создание каталога для дальнейшей обработки"
   ]
  },
  {
   "cell_type": "code",
   "execution_count": 10,
   "id": "081a6e34-6e0a-494e-8057-47a524dfd826",
   "metadata": {},
   "outputs": [],
   "source": [
    "# путь до директории, в которой хранятся папки с образцами\n",
    "# path = 'C:\\\\Users\\\\usach\\\\Desktop\\\\tmp\\\\'\n",
    "# path = 'D:\\\\_shp_files_part3\\\\'\n",
    "\n",
    "\n",
    "path = 'E:\\\\_shp_all\\\\_shp_files_all\\\\'\n",
    "# path = 'E:\\\\_shp_all\\\\_shp_files_rest\\\\'\n",
    "\n",
    "\n",
    "# os.listdir(path)"
   ]
  },
  {
   "cell_type": "code",
   "execution_count": 11,
   "id": "2b54a348-4fae-4809-870f-f38cc0788014",
   "metadata": {},
   "outputs": [],
   "source": [
    "path_shp_list, names_list, tectonic_types_list = get_shapefiles_info(path,\n",
    "                                                                     tect_types_dict)"
   ]
  },
  {
   "cell_type": "code",
   "execution_count": 12,
   "id": "74eabc29-b208-4973-a1e2-58ffad93de05",
   "metadata": {},
   "outputs": [],
   "source": [
    "shapefiles_info = pd.DataFrame(np.array([names_list, path_shp_list, tectonic_types_list]).T,\n",
    "                               columns=['name', 'path', 'tectonic type'])"
   ]
  },
  {
   "cell_type": "code",
   "execution_count": 13,
   "id": "ae303b90-319f-4bdd-b1ed-ac11f4226873",
   "metadata": {},
   "outputs": [
    {
     "data": {
      "text/html": [
       "<div>\n",
       "<style scoped>\n",
       "    .dataframe tbody tr th:only-of-type {\n",
       "        vertical-align: middle;\n",
       "    }\n",
       "\n",
       "    .dataframe tbody tr th {\n",
       "        vertical-align: top;\n",
       "    }\n",
       "\n",
       "    .dataframe thead th {\n",
       "        text-align: right;\n",
       "    }\n",
       "</style>\n",
       "<table border=\"1\" class=\"dataframe\">\n",
       "  <thead>\n",
       "    <tr style=\"text-align: right;\">\n",
       "      <th></th>\n",
       "      <th>name</th>\n",
       "      <th>path</th>\n",
       "      <th>tectonic type</th>\n",
       "    </tr>\n",
       "  </thead>\n",
       "  <tbody>\n",
       "    <tr>\n",
       "      <th>200</th>\n",
       "      <td>81-4</td>\n",
       "      <td>E:\\_shp_all\\_shp_files_all\\81-4\\ГИС\\81-4_Squar...</td>\n",
       "      <td>Милонит</td>\n",
       "    </tr>\n",
       "    <tr>\n",
       "      <th>201</th>\n",
       "      <td>81-5</td>\n",
       "      <td>E:\\_shp_all\\_shp_files_all\\81-5\\ГИС\\81-5_Squar...</td>\n",
       "      <td>Бластомилонит</td>\n",
       "    </tr>\n",
       "    <tr>\n",
       "      <th>202</th>\n",
       "      <td>81-6</td>\n",
       "      <td>E:\\_shp_all\\_shp_files_all\\81-6\\ГИС\\81-6_joine...</td>\n",
       "      <td>Бластокатаклазит</td>\n",
       "    </tr>\n",
       "    <tr>\n",
       "      <th>203</th>\n",
       "      <td>81-7</td>\n",
       "      <td>E:\\_shp_all\\_shp_files_all\\81-7\\ГИС\\81-7_joine...</td>\n",
       "      <td>Катаклазит</td>\n",
       "    </tr>\n",
       "    <tr>\n",
       "      <th>204</th>\n",
       "      <td>82-1</td>\n",
       "      <td>E:\\_shp_all\\_shp_files_all\\82-1\\ГИС\\82-1_joine...</td>\n",
       "      <td>Бластокатаклазит</td>\n",
       "    </tr>\n",
       "  </tbody>\n",
       "</table>\n",
       "</div>"
      ],
      "text/plain": [
       "     name                                               path     tectonic type\n",
       "200  81-4  E:\\_shp_all\\_shp_files_all\\81-4\\ГИС\\81-4_Squar...           Милонит\n",
       "201  81-5  E:\\_shp_all\\_shp_files_all\\81-5\\ГИС\\81-5_Squar...     Бластомилонит\n",
       "202  81-6  E:\\_shp_all\\_shp_files_all\\81-6\\ГИС\\81-6_joine...  Бластокатаклазит\n",
       "203  81-7  E:\\_shp_all\\_shp_files_all\\81-7\\ГИС\\81-7_joine...        Катаклазит\n",
       "204  82-1  E:\\_shp_all\\_shp_files_all\\82-1\\ГИС\\82-1_joine...  Бластокатаклазит"
      ]
     },
     "execution_count": 13,
     "metadata": {},
     "output_type": "execute_result"
    }
   ],
   "source": [
    "shapefiles_info.iloc[200:205]"
   ]
  },
  {
   "cell_type": "markdown",
   "id": "7eb22365-8787-41e1-bd51-7c1035e1ab2b",
   "metadata": {},
   "source": [
    "# Создание объектов ThinSection"
   ]
  },
  {
   "cell_type": "code",
   "execution_count": 14,
   "id": "fb212080-f30b-4383-b6e8-5661175ab885",
   "metadata": {},
   "outputs": [],
   "source": [
    "# path_to_pickle_files = 'D:\\\\_pickle_files\\\\'\n",
    "\n",
    "# path_to_pickle_files = 'D:\\\\_pickle_files_part0\\\\'\n",
    "\n",
    "path_to_pickle_files = 'D:\\\\_pickle_files_all\\\\'"
   ]
  },
  {
   "cell_type": "code",
   "execution_count": 15,
   "id": "74a407e7-ed83-4905-86d0-fdc8b3c78897",
   "metadata": {},
   "outputs": [],
   "source": [
    "# shapefiles_info"
   ]
  },
  {
   "cell_type": "code",
   "execution_count": 16,
   "id": "b6205724-2bdc-4557-a95c-8221462094d4",
   "metadata": {},
   "outputs": [],
   "source": [
    "# shapefiles_info.iloc[2]['path']"
   ]
  },
  {
   "cell_type": "code",
   "execution_count": 17,
   "id": "ecca9090-d8fb-4875-85da-3cf70df442c2",
   "metadata": {},
   "outputs": [
    {
     "name": "stdout",
     "output_type": "stream",
     "text": [
      "Образец: 81-4\n",
      "100%|█████████████████████████████████████████████████████████████████████████| 11979.0/11979 [00:25<00:00, 461.91it/s]\n",
      "Образец: 81-5\n",
      "100%|█████████████████████████████████████████████████████████████████████████| 19257.0/19257 [00:51<00:00, 375.00it/s]\n",
      "Образец: 81-6\n",
      "100%|█████████████████████████████████████████████████████████████████████████| 61799.0/61799 [09:07<00:00, 112.96it/s]\n",
      "Образец: 81-7\n",
      "100%|██████████████████████████████████████████████████████████████████████████| 83115.0/83115 [16:33<00:00, 83.70it/s]\n",
      "Образец: 82-1\n",
      "100%|██████████████████████████████████████████████████████████████████████████| 85933.0/85933 [17:30<00:00, 81.77it/s]\n"
     ]
    }
   ],
   "source": [
    "# for i in range(len(shapefiles_info)):\n",
    "# for i in [106]:\n",
    "for i in range(200, 205):\n",
    "    \n",
    "    path = shapefiles_info.iloc[i]['path']\n",
    "    name = shapefiles_info.iloc[i]['name']\n",
    "    tect_type = shapefiles_info.iloc[i]['tectonic type']\n",
    "    \n",
    "    print('Образец:', name)\n",
    "    \n",
    "    # создание объекта\n",
    "    data = ThinSection(path, name, tect_type)\n",
    "    \n",
    "    # проверка на то, что шлиф задан по линеаментам, а не по сегментам\n",
    "    if data.lineaments_sample_size >= 200000:\n",
    "        print('(!) Large sample size, it may be sample with only segments')\n",
    "        continue\n",
    "#     assert data.lineaments_sample_size < 200000, 'Large sample size, it may be sample with only segments'\n",
    "    \n",
    "    # вычисление ixy\n",
    "    data.perform_IXY_classification(epsilon=5)\n",
    "    data.calc_entropy()  # new\n",
    "    data.calc_fractal_dimension()  # new\n",
    "    data.perform_stat_analysis()  # new\n",
    "    \n",
    "    # сохранение pickle\n",
    "    save_pickle(data, path_to_pickle_files)"
   ]
  },
  {
   "cell_type": "code",
   "execution_count": null,
   "id": "90a3ce1d-f48c-4535-82c8-e842e3c34821",
   "metadata": {},
   "outputs": [],
   "source": []
  },
  {
   "cell_type": "code",
   "execution_count": null,
   "id": "162e4749-d8d7-42d0-8cae-8d209e3a21e9",
   "metadata": {},
   "outputs": [],
   "source": []
  },
  {
   "cell_type": "code",
   "execution_count": 16,
   "id": "f992a98f-ca75-41f3-b418-3785bd1905b0",
   "metadata": {
    "tags": []
   },
   "outputs": [
    {
     "name": "stdout",
     "output_type": "stream",
     "text": [
      "Образец: 0-2\n",
      "100%|████████████████████████████████████████████████████████████████████████| 103898.0/103898 [26:31<00:00, 65.29it/s]\n",
      "Образец: 1а\n",
      "100%|██████████████████████████████████████████████████████████████████████████| 94928.0/94928 [29:53<00:00, 52.94it/s]\n",
      "Образец: 1б\n",
      "100%|██████████████████████████████████████████████████████████████████████████| 76193.0/76193 [15:28<00:00, 82.02it/s]\n"
     ]
    },
    {
     "name": "stderr",
     "output_type": "stream",
     "text": [
      "Values less than or equal to 0 in data. Throwing out 0 or negative values\n",
      "'nan' in fit cumulative distribution values.\n",
      "Likely underflow or overflow error: the optimal fit for this distribution gives values that are so extreme that we lack the numerical precision to calculate them.\n"
     ]
    },
    {
     "name": "stdout",
     "output_type": "stream",
     "text": [
      "Calculating best minimal value for power law fit\n",
      "Образец: 1-1_2018а\n",
      "100%|████████████████████████████████████████████████████████████████████████| 115878.0/115878 [29:25<00:00, 65.64it/s]\n"
     ]
    },
    {
     "ename": "IndexError",
     "evalue": "index 0 is out of bounds for axis 0 with size 0",
     "output_type": "error",
     "traceback": [
      "\u001b[1;31m---------------------------------------------------------------------------\u001b[0m",
      "\u001b[1;31mIndexError\u001b[0m                                Traceback (most recent call last)",
      "\u001b[1;32m<ipython-input-16-4d91b5a4b986>\u001b[0m in \u001b[0;36m<module>\u001b[1;34m\u001b[0m\n\u001b[0;32m     22\u001b[0m     \u001b[0mdata\u001b[0m\u001b[1;33m.\u001b[0m\u001b[0mcalc_entropy\u001b[0m\u001b[1;33m(\u001b[0m\u001b[1;33m)\u001b[0m  \u001b[1;31m# new\u001b[0m\u001b[1;33m\u001b[0m\u001b[1;33m\u001b[0m\u001b[0m\n\u001b[0;32m     23\u001b[0m     \u001b[0mdata\u001b[0m\u001b[1;33m.\u001b[0m\u001b[0mcalc_fractal_dimension\u001b[0m\u001b[1;33m(\u001b[0m\u001b[1;33m)\u001b[0m  \u001b[1;31m# new\u001b[0m\u001b[1;33m\u001b[0m\u001b[1;33m\u001b[0m\u001b[0m\n\u001b[1;32m---> 24\u001b[1;33m     \u001b[0mdata\u001b[0m\u001b[1;33m.\u001b[0m\u001b[0mperform_stat_analysis\u001b[0m\u001b[1;33m(\u001b[0m\u001b[1;33m)\u001b[0m  \u001b[1;31m# new\u001b[0m\u001b[1;33m\u001b[0m\u001b[1;33m\u001b[0m\u001b[0m\n\u001b[0m\u001b[0;32m     25\u001b[0m \u001b[1;33m\u001b[0m\u001b[0m\n\u001b[0;32m     26\u001b[0m     \u001b[1;31m# сохранение pickle\u001b[0m\u001b[1;33m\u001b[0m\u001b[1;33m\u001b[0m\u001b[1;33m\u001b[0m\u001b[0m\n",
      "\u001b[1;32m~\\_Notebooks\\Microfractures\\Whole_cracks\\Thin_Section_processing\\thin_section_class.py\u001b[0m in \u001b[0;36mperform_stat_analysis\u001b[1;34m(self)\u001b[0m\n\u001b[0;32m    181\u001b[0m         \u001b[0mself\u001b[0m\u001b[1;33m.\u001b[0m\u001b[0mlognormal_sigma_length\u001b[0m \u001b[1;33m=\u001b[0m \u001b[0mfit_length\u001b[0m\u001b[1;33m.\u001b[0m\u001b[0mlognormal\u001b[0m\u001b[1;33m.\u001b[0m\u001b[0msigma\u001b[0m\u001b[1;33m\u001b[0m\u001b[1;33m\u001b[0m\u001b[0m\n\u001b[0;32m    182\u001b[0m \u001b[1;33m\u001b[0m\u001b[0m\n\u001b[1;32m--> 183\u001b[1;33m         inter_sample_truncated = truncate_sample(self.intersections_counts,\n\u001b[0m\u001b[0;32m    184\u001b[0m                                                  bins=len(np.unique(self.intersections_counts)))\n\u001b[0;32m    185\u001b[0m         \u001b[0mfit_inter\u001b[0m\u001b[1;33m,\u001b[0m \u001b[0mtable_inter\u001b[0m \u001b[1;33m=\u001b[0m \u001b[0mperform_stat_tests\u001b[0m\u001b[1;33m(\u001b[0m\u001b[0minter_sample_truncated\u001b[0m\u001b[1;33m)\u001b[0m\u001b[1;33m\u001b[0m\u001b[1;33m\u001b[0m\u001b[0m\n",
      "\u001b[1;32m~\\_Notebooks\\Microfractures\\Whole_cracks\\Thin_Section_processing\\functions\\statistical_analysis.py\u001b[0m in \u001b[0;36mtruncate_sample\u001b[1;34m(sample, bins, left_bound, right_bound)\u001b[0m\n\u001b[0;32m     27\u001b[0m \u001b[1;33m\u001b[0m\u001b[0m\n\u001b[0;32m     28\u001b[0m     \u001b[1;32mif\u001b[0m \u001b[0mright_bound\u001b[0m \u001b[1;32mis\u001b[0m \u001b[1;32mNone\u001b[0m\u001b[1;33m:\u001b[0m\u001b[1;33m\u001b[0m\u001b[1;33m\u001b[0m\u001b[0m\n\u001b[1;32m---> 29\u001b[1;33m         \u001b[0mfirst_zero_index\u001b[0m \u001b[1;33m=\u001b[0m \u001b[0mnp\u001b[0m\u001b[1;33m.\u001b[0m\u001b[0mwhere\u001b[0m\u001b[1;33m(\u001b[0m\u001b[0mhist\u001b[0m \u001b[1;33m==\u001b[0m \u001b[1;36m0\u001b[0m\u001b[1;33m)\u001b[0m\u001b[1;33m[\u001b[0m\u001b[1;36m0\u001b[0m\u001b[1;33m]\u001b[0m\u001b[1;33m[\u001b[0m\u001b[1;36m0\u001b[0m\u001b[1;33m]\u001b[0m  \u001b[1;31m# индекс первого бина с нулевым значением\u001b[0m\u001b[1;33m\u001b[0m\u001b[1;33m\u001b[0m\u001b[0m\n\u001b[0m\u001b[0;32m     30\u001b[0m         \u001b[0mright_bound\u001b[0m \u001b[1;33m=\u001b[0m \u001b[0mvalues\u001b[0m\u001b[1;33m[\u001b[0m\u001b[0mfirst_zero_index\u001b[0m\u001b[1;33m]\u001b[0m\u001b[1;33m\u001b[0m\u001b[1;33m\u001b[0m\u001b[0m\n\u001b[0;32m     31\u001b[0m \u001b[1;33m\u001b[0m\u001b[0m\n",
      "\u001b[1;31mIndexError\u001b[0m: index 0 is out of bounds for axis 0 with size 0"
     ]
    }
   ],
   "source": [
    "# for i in range(len(shapefiles_info)):\n",
    "# for i in [106]:\n",
    "for i in range(0, 20):\n",
    "    \n",
    "    path = shapefiles_info.iloc[i]['path']\n",
    "    name = shapefiles_info.iloc[i]['name']\n",
    "    tect_type = shapefiles_info.iloc[i]['tectonic type']\n",
    "    \n",
    "    print('Образец:', name)\n",
    "    \n",
    "    # создание объекта\n",
    "    data = ThinSection(path, name, tect_type)\n",
    "    \n",
    "    # проверка на то, что шлиф задан по линеаментам, а не по сегментам\n",
    "    if data.lineaments_sample_size >= 200000:\n",
    "        print('(!) Large sample size, it may be sample with only segments')\n",
    "        continue\n",
    "#     assert data.lineaments_sample_size < 200000, 'Large sample size, it may be sample with only segments'\n",
    "    \n",
    "    # вычисление ixy\n",
    "    data.perform_IXY_classification(epsilon=5)\n",
    "    data.calc_entropy()  # new\n",
    "    data.calc_fractal_dimension()  # new\n",
    "    data.perform_stat_analysis()  # new\n",
    "    \n",
    "    # сохранение pickle\n",
    "    save_pickle(data, path_to_pickle_files)"
   ]
  },
  {
   "cell_type": "code",
   "execution_count": null,
   "id": "9260b92a-be4f-4754-8cb6-72b2eaa250fe",
   "metadata": {},
   "outputs": [],
   "source": []
  },
  {
   "cell_type": "code",
   "execution_count": null,
   "id": "038c54a4-5401-4bc3-a394-3b0081fcdffd",
   "metadata": {},
   "outputs": [],
   "source": []
  },
  {
   "cell_type": "markdown",
   "id": "00ade44e-41ae-4ae3-818e-091fd1d1a405",
   "metadata": {},
   "source": [
    "# Обновление pickle-файлов"
   ]
  },
  {
   "cell_type": "markdown",
   "id": "f798a630-0099-48b2-ad35-67967ea5674b",
   "metadata": {},
   "source": [
    "## Вариант 1"
   ]
  },
  {
   "cell_type": "markdown",
   "id": "13230ff6-513c-46b3-a069-596abcca4882",
   "metadata": {},
   "source": [
    "1) Чтение имеющихся pickle файлов\n",
    "2) Вычисление и добавление новых атрибутов\n",
    "3) Сохранение новых pickle файлов\n",
    "\n",
    "(желательно предварительно создать функцию, вычисляющую значение нового атрибута и добавить ее в пакет functions)"
   ]
  },
  {
   "cell_type": "code",
   "execution_count": 8,
   "id": "4b68cce5-90bd-44e7-9c12-e76bd91c931c",
   "metadata": {},
   "outputs": [],
   "source": [
    "# from functions.get_general_features import *\n",
    "\n",
    "# from functions.shannon_entropy import *\n",
    "\n",
    "# from functions.fractal_dimension import *\n",
    "# import shapefile\n",
    "\n",
    "from functions.statistical_analysis import *\n",
    "from functions.get_segments_sample import scale_shapefile_elements"
   ]
  },
  {
   "cell_type": "code",
   "execution_count": 36,
   "id": "bb362a13-88a1-4425-acc9-4cd2cf35cacf",
   "metadata": {},
   "outputs": [],
   "source": [
    "path_to_pickle_files = 'D:\\\\_pickle_files_all\\\\'"
   ]
  },
  {
   "cell_type": "code",
   "execution_count": 10,
   "id": "82844750-b846-4900-83a0-603d88ddc67d",
   "metadata": {},
   "outputs": [
    {
     "data": {
      "application/vnd.jupyter.widget-view+json": {
       "model_id": "1ba096bf5dc94f10a746d550d2e1a018",
       "version_major": 2,
       "version_minor": 0
      },
      "text/plain": [
       "  0%|          | 0/226 [00:00<?, ?it/s]"
      ]
     },
     "metadata": {},
     "output_type": "display_data"
    }
   ],
   "source": [
    "for filename in tqdm(os.listdir(path_to_pickle_files)):\n",
    "    # чтение имеющихся pickle файлов\n",
    "    file = open(path_to_pickle_files + filename, 'rb')\n",
    "    data = pickle.load(file)\n",
    "    file.close()\n",
    "    \n",
    "    try: \n",
    "        data.stat_tests_lineaments_length  # чтобы случайно не изменить существующий атрибут\n",
    "        data.powerlaw_alpha_length\n",
    "        data.exponential_lambda_length\n",
    "        data.lognormal_mu_length\n",
    "        data.lognormal_sigma_length\n",
    "        print('\\n (!) This attribute already exists, exit the loop')\n",
    "        break\n",
    "    except:\n",
    "        # вычисление и добавление нового атрибута\n",
    "        length = scale_shapefile_elements(data.lineaments_length_sample)\n",
    "        fit, table = perform_stat_tests(length)\n",
    "        \n",
    "        data.stat_tests_lineaments_length = table\n",
    "        data.powerlaw_alpha_length = fit.alpha\n",
    "        data.exponential_lambda_length = fit.exponential.Lambda\n",
    "        data.lognormal_mu_length = fit.lognormal.mu\n",
    "        data.lognormal_sigma_length = fit.lognormal.sigma\n",
    "\n",
    "    # сохранение новых pickle файлов\n",
    "    save_pickle(data, path_to_pickle_files)"
   ]
  },
  {
   "cell_type": "code",
   "execution_count": 4,
   "id": "8a4a077d-f466-4e4a-8acc-c7361da565b8",
   "metadata": {},
   "outputs": [],
   "source": [
    "path_to_pickle_files = 'D:\\\\_pickle_files_all\\\\'\n",
    "\n",
    "# path_to_pickle_files = 'E:\\\\_shp_all\\\\_pickle_files_all_copy_2\\\\'"
   ]
  },
  {
   "cell_type": "code",
   "execution_count": 6,
   "id": "418ec81b-3a8c-4cfb-a07b-42e6d5bd8a7f",
   "metadata": {},
   "outputs": [
    {
     "data": {
      "text/plain": [
       "205"
      ]
     },
     "execution_count": 6,
     "metadata": {},
     "output_type": "execute_result"
    }
   ],
   "source": [
    "# np.where(np.array(os.listdir(path_to_pickle_files)) == '12-4а_object')\n",
    "len(os.listdir(path_to_pickle_files)) "
   ]
  },
  {
   "cell_type": "code",
   "execution_count": 6,
   "id": "537dddf7-c119-4ed0-a0f8-6bd1fe09ca1c",
   "metadata": {},
   "outputs": [
    {
     "data": {
      "application/vnd.jupyter.widget-view+json": {
       "model_id": "7fc31818b9e94c95b8d7165af937b478",
       "version_major": 2,
       "version_minor": 0
      },
      "text/plain": [
       "  0%|          | 0/226 [00:00<?, ?it/s]"
      ]
     },
     "metadata": {},
     "output_type": "display_data"
    },
    {
     "name": "stdout",
     "output_type": "stream",
     "text": [
      "12-4а   [0.514299   0.20405462 0.28164638]\n",
      "12-4б   [0.51329849 0.20100058 0.28570093]\n"
     ]
    }
   ],
   "source": [
    "# for k in tqdm(range(len(os.listdir(path_to_pickle_files)))):\n",
    "#     filename = os.listdir(path_to_pickle_files)[k]\n",
    "#     file = open(path_to_pickle_files + filename, 'rb')\n",
    "#     data = pickle.load(file)\n",
    "#     file.close()\n",
    "    \n",
    "#     n = data.lineaments_sample_size\n",
    "#     lineaments_segments_counts = np.zeros(n)\n",
    "\n",
    "#     for i, elem in enumerate(data.lineaments_sample):\n",
    "#         lineaments_segments_counts[i] = len(elem)\n",
    "\n",
    "#     if np.all(lineaments_segments_counts == 1):\n",
    "#         print(data.name, ' ',  data.XIY_counts / np.sum(data.XIY_counts))"
   ]
  },
  {
   "cell_type": "code",
   "execution_count": null,
   "id": "50e76719-75d6-40c1-b788-c59bd94e04e1",
   "metadata": {},
   "outputs": [],
   "source": []
  },
  {
   "cell_type": "code",
   "execution_count": null,
   "id": "89fc56c0-f726-4727-b83e-a6c869b5c513",
   "metadata": {},
   "outputs": [],
   "source": []
  },
  {
   "cell_type": "code",
   "execution_count": 7,
   "id": "9fa438e7-a9c9-4592-ba74-d04b4db0f66e",
   "metadata": {},
   "outputs": [],
   "source": [
    "# проверка на каком нибудь объекте\n",
    "k = 3\n",
    "filename = os.listdir(path_to_pickle_files)[k]\n",
    "\n",
    "file = open(path_to_pickle_files + filename, 'rb')\n",
    "data = pickle.load(file)\n",
    "file.close()"
   ]
  },
  {
   "cell_type": "code",
   "execution_count": 8,
   "id": "700d9a88-2f9d-4713-895f-a14746031466",
   "metadata": {},
   "outputs": [
    {
     "data": {
      "text/plain": [
       "False"
      ]
     },
     "execution_count": 8,
     "metadata": {},
     "output_type": "execute_result"
    }
   ],
   "source": [
    "n = data.lineaments_sample_size\n",
    "lineaments_segments_counts = np.zeros(n)\n",
    "\n",
    "for i, elem in enumerate(data.lineaments_sample):\n",
    "    lineaments_segments_counts[i] = len(elem)\n",
    "    \n",
    "np.all(lineaments_segments_counts == 1)"
   ]
  },
  {
   "cell_type": "code",
   "execution_count": 9,
   "id": "c9e735b4-9694-41e0-b3aa-bc6067c70692",
   "metadata": {},
   "outputs": [
    {
     "data": {
      "text/plain": [
       "'10-1а'"
      ]
     },
     "execution_count": 9,
     "metadata": {},
     "output_type": "execute_result"
    }
   ],
   "source": [
    "data.name"
   ]
  },
  {
   "cell_type": "code",
   "execution_count": 13,
   "id": "69cfde7b-ee9c-46ea-a15e-dde2a3569ff5",
   "metadata": {},
   "outputs": [
    {
     "data": {
      "text/plain": [
       "(6569591, 2)"
      ]
     },
     "execution_count": 13,
     "metadata": {},
     "output_type": "execute_result"
    }
   ],
   "source": [
    "data.pixels_coords.shape"
   ]
  },
  {
   "cell_type": "code",
   "execution_count": 19,
   "id": "47019520-41a2-4a9a-bef8-8c11ada824b7",
   "metadata": {},
   "outputs": [
    {
     "data": {
      "image/png": "[encoded data removed]",
      "text/plain": [
       "<Figure size 720x720 with 1 Axes>"
      ]
     },
     "metadata": {},
     "output_type": "display_data"
    }
   ],
   "source": [
    "data.draw_rose_diagram_lineaments()"
   ]
  },
  {
   "cell_type": "code",
   "execution_count": 18,
   "id": "3f12d956-43e0-42eb-ab24-daafb328526f",
   "metadata": {},
   "outputs": [
    {
     "data": {
      "image/png": "[encoded data removed]",
      "text/plain": [
       "<Figure size 936x432 with 1 Axes>"
      ]
     },
     "metadata": {},
     "output_type": "display_data"
    }
   ],
   "source": [
    "data.draw_intersections_histogram()\n",
    "plt.xticks(np.arange(0, 50, 2))\n",
    "None"
   ]
  },
  {
   "cell_type": "code",
   "execution_count": 28,
   "id": "d47ef798-8698-4241-90a1-f0ecc9e2bbcd",
   "metadata": {},
   "outputs": [
    {
     "data": {
      "image/png": "[encoded data removed]",
      "text/plain": [
       "<Figure size 720x720 with 1 Axes>"
      ]
     },
     "metadata": {},
     "output_type": "display_data"
    }
   ],
   "source": [
    "plt.figure(figsize=(10, 10))\n",
    "\n",
    "plt.hist(data.intersections_counts, bins=len(np.unique(data.intersections_counts)), density=True)\n",
    "\n",
    "plt.yscale('log')\n",
    "\n",
    "plt.ylabel('Плотность вероятности', fontsize=27)\n",
    "plt.xlabel('Число пересечений', fontsize=27)\n",
    "None"
   ]
  },
  {
   "cell_type": "code",
   "execution_count": 97,
   "id": "340e6a93-4e76-4f3c-bdb2-edd68dc44d36",
   "metadata": {},
   "outputs": [
    {
     "data": {
      "text/plain": [
       "([235913, 103164, 135150], array([0.49746851, 0.21754139, 0.2849901 ]))"
      ]
     },
     "execution_count": 97,
     "metadata": {},
     "output_type": "execute_result"
    }
   ],
   "source": [
    "data.XIY_counts, data.XIY_counts / np.sum(data.XIY_counts) "
   ]
  },
  {
   "cell_type": "code",
   "execution_count": 35,
   "id": "9dc536df-084f-49bf-8482-6c946ee18295",
   "metadata": {},
   "outputs": [
    {
     "data": {
      "text/plain": [
       "101360"
      ]
     },
     "execution_count": 35,
     "metadata": {},
     "output_type": "execute_result"
    }
   ],
   "source": [
    "data.lineaments_sample_size"
   ]
  },
  {
   "cell_type": "code",
   "execution_count": 29,
   "id": "a1aec10d-b3af-492f-a7ea-d1f13d50d637",
   "metadata": {},
   "outputs": [
    {
     "data": {
      "text/plain": [
       "101360"
      ]
     },
     "execution_count": 29,
     "metadata": {},
     "output_type": "execute_result"
    }
   ],
   "source": [
    "data.lineaments_sample_size"
   ]
  },
  {
   "cell_type": "code",
   "execution_count": 28,
   "id": "a67b57e2-7184-47d2-b9b1-4cfad12bf934",
   "metadata": {},
   "outputs": [
    {
     "data": {
      "image/png": "[encoded data removed]",
      "text/plain": [
       "<Figure size 936x432 with 1 Axes>"
      ]
     },
     "metadata": {},
     "output_type": "display_data"
    }
   ],
   "source": [
    "data.draw_intersections_histogram()"
   ]
  },
  {
   "cell_type": "code",
   "execution_count": 59,
   "id": "df3161cb-4afd-45ab-9394-361c53f9904e",
   "metadata": {},
   "outputs": [
    {
     "data": {
      "text/plain": [
       "1.7993590832716089"
      ]
     },
     "execution_count": 59,
     "metadata": {},
     "output_type": "execute_result"
    }
   ],
   "source": [
    "data.frac_dim"
   ]
  },
  {
   "cell_type": "code",
   "execution_count": 60,
   "id": "9c5c0263-9182-4f10-aa6a-a0e92f3fe35a",
   "metadata": {},
   "outputs": [
    {
     "data": {
      "text/plain": [
       "5.553123599607713"
      ]
     },
     "execution_count": 60,
     "metadata": {},
     "output_type": "execute_result"
    }
   ],
   "source": [
    "data.entropy_L_az"
   ]
  },
  {
   "cell_type": "code",
   "execution_count": 61,
   "id": "243e6e6b-fc00-44e9-96e7-ba39fcb21ba7",
   "metadata": {},
   "outputs": [
    {
     "data": {
      "text/plain": [
       "'19-2б'"
      ]
     },
     "execution_count": 61,
     "metadata": {},
     "output_type": "execute_result"
    }
   ],
   "source": [
    "data.name"
   ]
  },
  {
   "cell_type": "code",
   "execution_count": null,
   "id": "66f833ca-4dbc-4835-b5a2-9552a1c1d34a",
   "metadata": {},
   "outputs": [],
   "source": []
  },
  {
   "cell_type": "code",
   "execution_count": null,
   "id": "a6f74584-c47d-4d4a-b3aa-66c222ee25be",
   "metadata": {},
   "outputs": [],
   "source": []
  },
  {
   "cell_type": "code",
   "execution_count": null,
   "id": "ec6630e5-86e0-43f8-adb2-61c37f7977db",
   "metadata": {},
   "outputs": [],
   "source": []
  },
  {
   "cell_type": "code",
   "execution_count": 8,
   "id": "6ced9ea9-ee73-47a0-a53f-2cb26af97bba",
   "metadata": {},
   "outputs": [
    {
     "data": {
      "text/plain": [
       "['segments_sample',\n",
       " 'segments_sample_size',\n",
       " 'segments_length_sample',\n",
       " 'name',\n",
       " 'tectonic_type',\n",
       " 'path',\n",
       " 'azimuth_sample_rad',\n",
       " 'azimuth_sample_deg',\n",
       " 'window_size',\n",
       " 'density_sample',\n",
       " 'lineaments_sample',\n",
       " 'lineaments_sample_size',\n",
       " 'lineaments_length_sample',\n",
       " 'intersections_counts',\n",
       " 'epsilon',\n",
       " 'XIY_coordinates',\n",
       " 'XIY_counts']"
      ]
     },
     "execution_count": 8,
     "metadata": {},
     "output_type": "execute_result"
    }
   ],
   "source": [
    "list(vars(data).keys())"
   ]
  },
  {
   "cell_type": "code",
   "execution_count": 31,
   "id": "0cf9db0f-ed37-4392-a3b1-79a6f0c1c57e",
   "metadata": {},
   "outputs": [],
   "source": [
    "# Z = data.pixels_coords"
   ]
  },
  {
   "cell_type": "code",
   "execution_count": null,
   "id": "9848c36c-7f9e-43af-b572-9a1ffbc264db",
   "metadata": {},
   "outputs": [],
   "source": [
    "frac_dim"
   ]
  },
  {
   "cell_type": "code",
   "execution_count": 17,
   "id": "63edec39-ead0-4eb6-8dd3-c9d721bb0e63",
   "metadata": {},
   "outputs": [],
   "source": [
    "# df = pd.read_csv('rho_az_entropy.csv')\n",
    "# df = df.drop(df.columns[0], axis=1)\n",
    "# df.head(20)"
   ]
  },
  {
   "cell_type": "markdown",
   "id": "5cd50a52-02b0-43c9-91e2-5600ded86596",
   "metadata": {},
   "source": [
    "### Обновление путей до .shp"
   ]
  },
  {
   "cell_type": "code",
   "execution_count": 78,
   "id": "6a107cbe-9e3b-411e-abc8-ea8ca34b668f",
   "metadata": {},
   "outputs": [
    {
     "data": {
      "text/html": [
       "<div>\n",
       "<style scoped>\n",
       "    .dataframe tbody tr th:only-of-type {\n",
       "        vertical-align: middle;\n",
       "    }\n",
       "\n",
       "    .dataframe tbody tr th {\n",
       "        vertical-align: top;\n",
       "    }\n",
       "\n",
       "    .dataframe thead th {\n",
       "        text-align: right;\n",
       "    }\n",
       "</style>\n",
       "<table border=\"1\" class=\"dataframe\">\n",
       "  <thead>\n",
       "    <tr style=\"text-align: right;\">\n",
       "      <th></th>\n",
       "      <th>name</th>\n",
       "      <th>path</th>\n",
       "      <th>tectonic type</th>\n",
       "    </tr>\n",
       "  </thead>\n",
       "  <tbody>\n",
       "    <tr>\n",
       "      <th>0</th>\n",
       "      <td>0-2</td>\n",
       "      <td>E:\\_shp_all\\_shp_files_all\\0-2\\ГИС\\0-2_НЕвзорв...</td>\n",
       "      <td>Милонит</td>\n",
       "    </tr>\n",
       "    <tr>\n",
       "      <th>1</th>\n",
       "      <td>1а</td>\n",
       "      <td>E:\\_shp_all\\_shp_files_all\\1\\1а\\ГИС\\all.shp</td>\n",
       "      <td>Катаклазит</td>\n",
       "    </tr>\n",
       "    <tr>\n",
       "      <th>2</th>\n",
       "      <td>1б</td>\n",
       "      <td>E:\\_shp_all\\_shp_files_all\\1\\1б\\ГИС\\all.shp</td>\n",
       "      <td>Катаклазит</td>\n",
       "    </tr>\n",
       "    <tr>\n",
       "      <th>3</th>\n",
       "      <td>1-1_2018а</td>\n",
       "      <td>E:\\_shp_all\\_shp_files_all\\1-1_2018\\1-1_2018а\\...</td>\n",
       "      <td>Катаклазит</td>\n",
       "    </tr>\n",
       "    <tr>\n",
       "      <th>4</th>\n",
       "      <td>1-1_2018б</td>\n",
       "      <td>E:\\_shp_all\\_shp_files_all\\1-1_2018\\1-1_2018б\\...</td>\n",
       "      <td>Катаклазит</td>\n",
       "    </tr>\n",
       "    <tr>\n",
       "      <th>...</th>\n",
       "      <td>...</td>\n",
       "      <td>...</td>\n",
       "      <td>...</td>\n",
       "    </tr>\n",
       "    <tr>\n",
       "      <th>221</th>\n",
       "      <td>95-1</td>\n",
       "      <td>E:\\_shp_all\\_shp_files_all\\95-1\\ГИС\\95-1_joine...</td>\n",
       "      <td>Катаклазит</td>\n",
       "    </tr>\n",
       "    <tr>\n",
       "      <th>222</th>\n",
       "      <td>98-1</td>\n",
       "      <td>E:\\_shp_all\\_shp_files_all\\98-1\\ГИС\\98-1_joine...</td>\n",
       "      <td>Вмещающая порода</td>\n",
       "    </tr>\n",
       "    <tr>\n",
       "      <th>223</th>\n",
       "      <td>99-1</td>\n",
       "      <td>E:\\_shp_all\\_shp_files_all\\99-1\\ГИС\\filter3x3_...</td>\n",
       "      <td>Катаклазит</td>\n",
       "    </tr>\n",
       "    <tr>\n",
       "      <th>224</th>\n",
       "      <td>99-2</td>\n",
       "      <td>E:\\_shp_all\\_shp_files_all\\99-2\\ГИС\\99-2_joine...</td>\n",
       "      <td>Вмещающая порода</td>\n",
       "    </tr>\n",
       "    <tr>\n",
       "      <th>225</th>\n",
       "      <td>99-3</td>\n",
       "      <td>E:\\_shp_all\\_shp_files_all\\99-3\\ГИС\\99-3_joine...</td>\n",
       "      <td>Вмещающая порода</td>\n",
       "    </tr>\n",
       "  </tbody>\n",
       "</table>\n",
       "<p>226 rows × 3 columns</p>\n",
       "</div>"
      ],
      "text/plain": [
       "          name                                               path  \\\n",
       "0          0-2  E:\\_shp_all\\_shp_files_all\\0-2\\ГИС\\0-2_НЕвзорв...   \n",
       "1           1а        E:\\_shp_all\\_shp_files_all\\1\\1а\\ГИС\\all.shp   \n",
       "2           1б        E:\\_shp_all\\_shp_files_all\\1\\1б\\ГИС\\all.shp   \n",
       "3    1-1_2018а  E:\\_shp_all\\_shp_files_all\\1-1_2018\\1-1_2018а\\...   \n",
       "4    1-1_2018б  E:\\_shp_all\\_shp_files_all\\1-1_2018\\1-1_2018б\\...   \n",
       "..         ...                                                ...   \n",
       "221       95-1  E:\\_shp_all\\_shp_files_all\\95-1\\ГИС\\95-1_joine...   \n",
       "222       98-1  E:\\_shp_all\\_shp_files_all\\98-1\\ГИС\\98-1_joine...   \n",
       "223       99-1  E:\\_shp_all\\_shp_files_all\\99-1\\ГИС\\filter3x3_...   \n",
       "224       99-2  E:\\_shp_all\\_shp_files_all\\99-2\\ГИС\\99-2_joine...   \n",
       "225       99-3  E:\\_shp_all\\_shp_files_all\\99-3\\ГИС\\99-3_joine...   \n",
       "\n",
       "        tectonic type  \n",
       "0             Милонит  \n",
       "1          Катаклазит  \n",
       "2          Катаклазит  \n",
       "3          Катаклазит  \n",
       "4          Катаклазит  \n",
       "..                ...  \n",
       "221        Катаклазит  \n",
       "222  Вмещающая порода  \n",
       "223        Катаклазит  \n",
       "224  Вмещающая порода  \n",
       "225  Вмещающая порода  \n",
       "\n",
       "[226 rows x 3 columns]"
      ]
     },
     "execution_count": 78,
     "metadata": {},
     "output_type": "execute_result"
    }
   ],
   "source": [
    "# текущая таблица\n",
    "shapefiles_info = pd.read_csv('Shapefiles_info.csv')\n",
    "shapefiles_info = shapefiles_info.drop(shapefiles_info.columns[0], axis=1)\n",
    "shapefiles_info"
   ]
  },
  {
   "cell_type": "code",
   "execution_count": 79,
   "id": "0fa700ac-3912-43a4-b749-b4e78066f7a9",
   "metadata": {},
   "outputs": [
    {
     "data": {
      "application/vnd.jupyter.widget-view+json": {
       "model_id": "d6912c5fd5c44d4f9936e42950a96121",
       "version_major": 2,
       "version_minor": 0
      },
      "text/plain": [
       "  0%|          | 0/226 [00:00<?, ?it/s]"
      ]
     },
     "metadata": {},
     "output_type": "display_data"
    }
   ],
   "source": [
    "for filename in tqdm(os.listdir(path_to_pickle_files)):\n",
    "    # чтение имеющихся pickle файлов\n",
    "    file = open(path_to_pickle_files + filename, 'rb')\n",
    "    data = pickle.load(file)\n",
    "    file.close()\n",
    "    \n",
    "    # обновление путей до shp файлов\n",
    "    sample_name = data.name\n",
    "    index = np.where(shapefiles_info['name'] == sample_name)[0]\n",
    "    assert len(index) == 1\n",
    "    index = index[0]\n",
    "    sample_path = shapefiles_info['path'][index]\n",
    "    data.path = sample_path\n",
    "\n",
    "    # сохранение новых pickle файлов\n",
    "    save_pickle(data, path_to_pickle_files)"
   ]
  },
  {
   "cell_type": "code",
   "execution_count": null,
   "id": "fc58e8c7-3cab-43cc-aaa0-3b7ddff2993c",
   "metadata": {},
   "outputs": [],
   "source": []
  },
  {
   "cell_type": "code",
   "execution_count": null,
   "id": "707d1449-d90e-4086-a2a8-08f3c48a948a",
   "metadata": {},
   "outputs": [],
   "source": []
  },
  {
   "cell_type": "markdown",
   "id": "b693583d-6b31-4a76-8cd3-d6aa06b17785",
   "metadata": {
    "tags": []
   },
   "source": [
    "## Вариант 2 (долгий)"
   ]
  },
  {
   "cell_type": "markdown",
   "id": "6d8b142b-2835-4dbe-85e3-db4df2bbc774",
   "metadata": {},
   "source": [
    "1) Все .shp файлы читаются заново\n",
    "2) Создаются объекты класса ThinSection (без вычисления IXY)\n",
    "3) Подсчитанные ранее IXY загружаются из .csv файла\n",
    "4) Объекты сохраняются как pickle файлы\n",
    "\n",
    "Всего должно быть 226 шлифов (на состояние 14 апреля)"
   ]
  },
  {
   "cell_type": "code",
   "execution_count": 13,
   "id": "020f5880-4799-4e8d-84ba-dabba702c085",
   "metadata": {},
   "outputs": [],
   "source": [
    "# IXY = pd.read_csv('../IXY_counts_all.csv')\n",
    "# IXY = IXY.drop(IXY.columns[0], axis=1)\n",
    "# IXY"
   ]
  },
  {
   "cell_type": "code",
   "execution_count": 14,
   "id": "84c95cbf-a57c-4e77-b28a-b8198d47efa8",
   "metadata": {},
   "outputs": [],
   "source": [
    "# shapefiles_info"
   ]
  },
  {
   "cell_type": "code",
   "execution_count": 15,
   "id": "7a1484fe-3a8a-4d31-9a01-36298477f693",
   "metadata": {},
   "outputs": [],
   "source": [
    "# path_to_pickle_files = 'D:\\\\_pickle_files_all\\\\'"
   ]
  },
  {
   "cell_type": "code",
   "execution_count": 16,
   "id": "fb63567b-2070-4a1c-9bac-792b6ca04c45",
   "metadata": {},
   "outputs": [],
   "source": [
    "# for i in tqdm(range(len(shapefiles_info))):\n",
    "    \n",
    "#     path = shapefiles_info.iloc[i]['path']\n",
    "#     name = shapefiles_info.iloc[i]['name']\n",
    "#     tect_type = shapefiles_info.iloc[i]['tectonic type']\n",
    "        \n",
    "#     # создание объекта\n",
    "#     data = ThinSection(path, name, tect_type)\n",
    "    \n",
    "#     # проверка на то, что шлиф задан по линеаментам, а не по сегментам\n",
    "#     if data.lineaments_sample_size >= 200000:\n",
    "#         print('(!) Large sample size, it may be sample with only segments')\n",
    "#         continue\n",
    "    \n",
    "#     # вычисление ixy (здесь просто чтение, вместо perform_IXY_classification)\n",
    "#     ## получение индекса в таблице по имени\n",
    "#     index = np.where(IXY['name'].values == data.name)[0]\n",
    "#     assert len(index) == 1, f'There is {len(index)} samples with name {data.name} in IXY table'\n",
    "#     index = index[0]\n",
    "#     ## запись значений в объект ThinSection\n",
    "#     X_counts = IXY.iloc[index]['X-nodes']\n",
    "#     I_counts = IXY.iloc[index]['I-nodes']\n",
    "#     Y_counts = IXY.iloc[index]['Y-nodes']\n",
    "#     data.XIY_counts = [X_counts, I_counts, Y_counts]\n",
    "    \n",
    "#     # сохранение pickle\n",
    "#     save_pickle(data, path_to_pickle_files)"
   ]
  },
  {
   "cell_type": "code",
   "execution_count": null,
   "id": "a77d1a0c-e83b-410e-9e24-422e40874627",
   "metadata": {},
   "outputs": [],
   "source": []
  },
  {
   "cell_type": "markdown",
   "id": "48bcf864-e1ac-47e0-81ef-0965bc5b4cec",
   "metadata": {},
   "source": [
    "# Attributes table\n",
    "\n",
    "Создание таблицы основных атрибутов шлифов (для удобства дальнейшей визуализации)"
   ]
  },
  {
   "cell_type": "code",
   "execution_count": 4,
   "id": "e58d6936-72e8-453a-8c8e-7c0a87299781",
   "metadata": {},
   "outputs": [],
   "source": [
    "path_to_pickle_files = 'D:\\\\_pickle_files_all\\\\'"
   ]
  },
  {
   "cell_type": "code",
   "execution_count": 39,
   "id": "8ad55b87-aedf-457d-8ce6-dd620016e6fe",
   "metadata": {},
   "outputs": [
    {
     "data": {
      "text/html": [
       "<div>\n",
       "<style scoped>\n",
       "    .dataframe tbody tr th:only-of-type {\n",
       "        vertical-align: middle;\n",
       "    }\n",
       "\n",
       "    .dataframe tbody tr th {\n",
       "        vertical-align: top;\n",
       "    }\n",
       "\n",
       "    .dataframe thead th {\n",
       "        text-align: right;\n",
       "    }\n",
       "</style>\n",
       "<table border=\"1\" class=\"dataframe\">\n",
       "  <thead>\n",
       "    <tr style=\"text-align: right;\">\n",
       "      <th></th>\n",
       "      <th>name</th>\n",
       "      <th>X_nodes</th>\n",
       "      <th>I_nodes</th>\n",
       "      <th>Y_nodes</th>\n",
       "      <th>tectonic_type</th>\n",
       "      <th>entropy_L_az</th>\n",
       "      <th>entropy_rho_az</th>\n",
       "      <th>frac_dim</th>\n",
       "    </tr>\n",
       "  </thead>\n",
       "  <tbody>\n",
       "    <tr>\n",
       "      <th>0</th>\n",
       "      <td>0-2</td>\n",
       "      <td>235913</td>\n",
       "      <td>103164</td>\n",
       "      <td>135150</td>\n",
       "      <td>Милонит</td>\n",
       "      <td>4.160903</td>\n",
       "      <td>3.599244</td>\n",
       "      <td>1.750249</td>\n",
       "    </tr>\n",
       "    <tr>\n",
       "      <th>1</th>\n",
       "      <td>1-1_2018а</td>\n",
       "      <td>294580</td>\n",
       "      <td>106169</td>\n",
       "      <td>165746</td>\n",
       "      <td>Катаклазит</td>\n",
       "      <td>6.014232</td>\n",
       "      <td>3.659852</td>\n",
       "      <td>1.804752</td>\n",
       "    </tr>\n",
       "    <tr>\n",
       "      <th>2</th>\n",
       "      <td>1-1_2018б</td>\n",
       "      <td>288173</td>\n",
       "      <td>110442</td>\n",
       "      <td>161043</td>\n",
       "      <td>Катаклазит</td>\n",
       "      <td>5.563611</td>\n",
       "      <td>3.646521</td>\n",
       "      <td>1.805672</td>\n",
       "    </tr>\n",
       "    <tr>\n",
       "      <th>3</th>\n",
       "      <td>10-1а</td>\n",
       "      <td>157221</td>\n",
       "      <td>77208</td>\n",
       "      <td>83288</td>\n",
       "      <td>Катаклазит</td>\n",
       "      <td>4.764944</td>\n",
       "      <td>3.522593</td>\n",
       "      <td>1.762179</td>\n",
       "    </tr>\n",
       "    <tr>\n",
       "      <th>4</th>\n",
       "      <td>10-1б</td>\n",
       "      <td>70647</td>\n",
       "      <td>34710</td>\n",
       "      <td>39450</td>\n",
       "      <td>Катаклазит</td>\n",
       "      <td>5.539817</td>\n",
       "      <td>3.540657</td>\n",
       "      <td>1.754565</td>\n",
       "    </tr>\n",
       "    <tr>\n",
       "      <th>5</th>\n",
       "      <td>10-2а</td>\n",
       "      <td>417217</td>\n",
       "      <td>140163</td>\n",
       "      <td>232656</td>\n",
       "      <td>Катаклазит</td>\n",
       "      <td>4.096968</td>\n",
       "      <td>3.646767</td>\n",
       "      <td>1.776841</td>\n",
       "    </tr>\n",
       "    <tr>\n",
       "      <th>6</th>\n",
       "      <td>10-2б</td>\n",
       "      <td>238923</td>\n",
       "      <td>78533</td>\n",
       "      <td>132476</td>\n",
       "      <td>Катаклазит</td>\n",
       "      <td>4.062924</td>\n",
       "      <td>3.650079</td>\n",
       "      <td>1.783798</td>\n",
       "    </tr>\n",
       "    <tr>\n",
       "      <th>7</th>\n",
       "      <td>10-3а</td>\n",
       "      <td>167002</td>\n",
       "      <td>88570</td>\n",
       "      <td>91241</td>\n",
       "      <td>Катаклазит</td>\n",
       "      <td>4.205908</td>\n",
       "      <td>3.567362</td>\n",
       "      <td>1.744097</td>\n",
       "    </tr>\n",
       "    <tr>\n",
       "      <th>8</th>\n",
       "      <td>10-3б</td>\n",
       "      <td>177188</td>\n",
       "      <td>93723</td>\n",
       "      <td>98700</td>\n",
       "      <td>Катаклазит</td>\n",
       "      <td>4.174707</td>\n",
       "      <td>3.640507</td>\n",
       "      <td>1.758653</td>\n",
       "    </tr>\n",
       "    <tr>\n",
       "      <th>9</th>\n",
       "      <td>100-1</td>\n",
       "      <td>93185</td>\n",
       "      <td>50708</td>\n",
       "      <td>52067</td>\n",
       "      <td>Вмещающая порода</td>\n",
       "      <td>5.446004</td>\n",
       "      <td>3.539769</td>\n",
       "      <td>1.713521</td>\n",
       "    </tr>\n",
       "    <tr>\n",
       "      <th>10</th>\n",
       "      <td>101-1</td>\n",
       "      <td>142022</td>\n",
       "      <td>73729</td>\n",
       "      <td>85319</td>\n",
       "      <td>Вмещающая порода</td>\n",
       "      <td>5.604230</td>\n",
       "      <td>3.534237</td>\n",
       "      <td>1.759341</td>\n",
       "    </tr>\n",
       "    <tr>\n",
       "      <th>11</th>\n",
       "      <td>102-1</td>\n",
       "      <td>170266</td>\n",
       "      <td>77155</td>\n",
       "      <td>103995</td>\n",
       "      <td>Вмещающая порода</td>\n",
       "      <td>5.888412</td>\n",
       "      <td>3.551127</td>\n",
       "      <td>1.772276</td>\n",
       "    </tr>\n",
       "    <tr>\n",
       "      <th>12</th>\n",
       "      <td>104-1</td>\n",
       "      <td>97218</td>\n",
       "      <td>81537</td>\n",
       "      <td>50378</td>\n",
       "      <td>Катаклазит</td>\n",
       "      <td>5.488272</td>\n",
       "      <td>3.340288</td>\n",
       "      <td>1.716173</td>\n",
       "    </tr>\n",
       "    <tr>\n",
       "      <th>13</th>\n",
       "      <td>104-2</td>\n",
       "      <td>145213</td>\n",
       "      <td>77743</td>\n",
       "      <td>82923</td>\n",
       "      <td>Катаклазит</td>\n",
       "      <td>5.288602</td>\n",
       "      <td>3.539866</td>\n",
       "      <td>1.756485</td>\n",
       "    </tr>\n",
       "    <tr>\n",
       "      <th>14</th>\n",
       "      <td>105-1</td>\n",
       "      <td>210627</td>\n",
       "      <td>85132</td>\n",
       "      <td>117944</td>\n",
       "      <td>Катаклазит</td>\n",
       "      <td>5.189531</td>\n",
       "      <td>3.673064</td>\n",
       "      <td>1.791833</td>\n",
       "    </tr>\n",
       "    <tr>\n",
       "      <th>15</th>\n",
       "      <td>105-4</td>\n",
       "      <td>132353</td>\n",
       "      <td>90835</td>\n",
       "      <td>74515</td>\n",
       "      <td>Катаклазит</td>\n",
       "      <td>4.044211</td>\n",
       "      <td>3.506036</td>\n",
       "      <td>1.742695</td>\n",
       "    </tr>\n",
       "    <tr>\n",
       "      <th>16</th>\n",
       "      <td>107-1</td>\n",
       "      <td>231174</td>\n",
       "      <td>115657</td>\n",
       "      <td>124421</td>\n",
       "      <td>Катаклазит</td>\n",
       "      <td>5.625612</td>\n",
       "      <td>3.375889</td>\n",
       "      <td>1.789650</td>\n",
       "    </tr>\n",
       "    <tr>\n",
       "      <th>17</th>\n",
       "      <td>108-1</td>\n",
       "      <td>294214</td>\n",
       "      <td>94927</td>\n",
       "      <td>160490</td>\n",
       "      <td>Бластомилонит</td>\n",
       "      <td>5.803737</td>\n",
       "      <td>3.668808</td>\n",
       "      <td>1.824972</td>\n",
       "    </tr>\n",
       "    <tr>\n",
       "      <th>18</th>\n",
       "      <td>10а</td>\n",
       "      <td>161394</td>\n",
       "      <td>80641</td>\n",
       "      <td>94205</td>\n",
       "      <td>Вмещающая порода</td>\n",
       "      <td>4.192396</td>\n",
       "      <td>3.524599</td>\n",
       "      <td>1.722727</td>\n",
       "    </tr>\n",
       "    <tr>\n",
       "      <th>19</th>\n",
       "      <td>10б</td>\n",
       "      <td>165705</td>\n",
       "      <td>74428</td>\n",
       "      <td>95131</td>\n",
       "      <td>Вмещающая порода</td>\n",
       "      <td>4.216791</td>\n",
       "      <td>3.586469</td>\n",
       "      <td>1.725424</td>\n",
       "    </tr>\n",
       "    <tr>\n",
       "      <th>20</th>\n",
       "      <td>11-1а</td>\n",
       "      <td>74337</td>\n",
       "      <td>38228</td>\n",
       "      <td>40776</td>\n",
       "      <td>Катаклазит</td>\n",
       "      <td>5.612713</td>\n",
       "      <td>3.521022</td>\n",
       "      <td>1.740148</td>\n",
       "    </tr>\n",
       "    <tr>\n",
       "      <th>21</th>\n",
       "      <td>11-1б</td>\n",
       "      <td>69855</td>\n",
       "      <td>40068</td>\n",
       "      <td>37758</td>\n",
       "      <td>Катаклазит</td>\n",
       "      <td>5.241615</td>\n",
       "      <td>3.372707</td>\n",
       "      <td>1.745280</td>\n",
       "    </tr>\n",
       "    <tr>\n",
       "      <th>22</th>\n",
       "      <td>11-2а</td>\n",
       "      <td>85998</td>\n",
       "      <td>70377</td>\n",
       "      <td>46840</td>\n",
       "      <td>Катаклазит</td>\n",
       "      <td>4.209143</td>\n",
       "      <td>3.462877</td>\n",
       "      <td>1.685469</td>\n",
       "    </tr>\n",
       "    <tr>\n",
       "      <th>23</th>\n",
       "      <td>11-2б</td>\n",
       "      <td>133336</td>\n",
       "      <td>84535</td>\n",
       "      <td>72364</td>\n",
       "      <td>Катаклазит</td>\n",
       "      <td>4.174242</td>\n",
       "      <td>3.499446</td>\n",
       "      <td>1.720713</td>\n",
       "    </tr>\n",
       "    <tr>\n",
       "      <th>24</th>\n",
       "      <td>11-3а</td>\n",
       "      <td>250066</td>\n",
       "      <td>100607</td>\n",
       "      <td>138788</td>\n",
       "      <td>Катаклазит</td>\n",
       "      <td>4.159426</td>\n",
       "      <td>3.674140</td>\n",
       "      <td>1.785130</td>\n",
       "    </tr>\n",
       "    <tr>\n",
       "      <th>25</th>\n",
       "      <td>11-3б</td>\n",
       "      <td>107025</td>\n",
       "      <td>66699</td>\n",
       "      <td>59446</td>\n",
       "      <td>Катаклазит</td>\n",
       "      <td>4.218930</td>\n",
       "      <td>3.517001</td>\n",
       "      <td>1.689152</td>\n",
       "    </tr>\n",
       "    <tr>\n",
       "      <th>26</th>\n",
       "      <td>110-1</td>\n",
       "      <td>73143</td>\n",
       "      <td>63174</td>\n",
       "      <td>42548</td>\n",
       "      <td>Катаклазит</td>\n",
       "      <td>5.987165</td>\n",
       "      <td>3.326751</td>\n",
       "      <td>1.694105</td>\n",
       "    </tr>\n",
       "    <tr>\n",
       "      <th>27</th>\n",
       "      <td>110-2</td>\n",
       "      <td>119925</td>\n",
       "      <td>91930</td>\n",
       "      <td>71654</td>\n",
       "      <td>Катаклазит</td>\n",
       "      <td>5.640003</td>\n",
       "      <td>3.260543</td>\n",
       "      <td>1.723425</td>\n",
       "    </tr>\n",
       "    <tr>\n",
       "      <th>28</th>\n",
       "      <td>112-1</td>\n",
       "      <td>179133</td>\n",
       "      <td>107366</td>\n",
       "      <td>108474</td>\n",
       "      <td>Катаклазит</td>\n",
       "      <td>5.935780</td>\n",
       "      <td>3.518022</td>\n",
       "      <td>1.767590</td>\n",
       "    </tr>\n",
       "    <tr>\n",
       "      <th>29</th>\n",
       "      <td>112-2</td>\n",
       "      <td>218048</td>\n",
       "      <td>126420</td>\n",
       "      <td>129436</td>\n",
       "      <td>Милонит</td>\n",
       "      <td>5.324687</td>\n",
       "      <td>3.522553</td>\n",
       "      <td>1.788250</td>\n",
       "    </tr>\n",
       "    <tr>\n",
       "      <th>30</th>\n",
       "      <td>113-3</td>\n",
       "      <td>219068</td>\n",
       "      <td>100200</td>\n",
       "      <td>124668</td>\n",
       "      <td>Катаклазит</td>\n",
       "      <td>5.631377</td>\n",
       "      <td>3.592781</td>\n",
       "      <td>1.785662</td>\n",
       "    </tr>\n",
       "    <tr>\n",
       "      <th>31</th>\n",
       "      <td>113-4</td>\n",
       "      <td>233010</td>\n",
       "      <td>77018</td>\n",
       "      <td>131555</td>\n",
       "      <td>Катаклазит</td>\n",
       "      <td>5.667225</td>\n",
       "      <td>3.700265</td>\n",
       "      <td>1.800433</td>\n",
       "    </tr>\n",
       "    <tr>\n",
       "      <th>32</th>\n",
       "      <td>113-5</td>\n",
       "      <td>244114</td>\n",
       "      <td>109135</td>\n",
       "      <td>128720</td>\n",
       "      <td>Бластокатаклазит</td>\n",
       "      <td>5.130823</td>\n",
       "      <td>3.568641</td>\n",
       "      <td>1.796663</td>\n",
       "    </tr>\n",
       "    <tr>\n",
       "      <th>33</th>\n",
       "      <td>114-1а</td>\n",
       "      <td>204414</td>\n",
       "      <td>72317</td>\n",
       "      <td>111973</td>\n",
       "      <td>Бластокатаклазит</td>\n",
       "      <td>5.656112</td>\n",
       "      <td>3.552115</td>\n",
       "      <td>1.805300</td>\n",
       "    </tr>\n",
       "    <tr>\n",
       "      <th>34</th>\n",
       "      <td>114-1б</td>\n",
       "      <td>102239</td>\n",
       "      <td>74721</td>\n",
       "      <td>55771</td>\n",
       "      <td>Бластокатаклазит</td>\n",
       "      <td>3.831199</td>\n",
       "      <td>3.499538</td>\n",
       "      <td>1.741261</td>\n",
       "    </tr>\n",
       "    <tr>\n",
       "      <th>35</th>\n",
       "      <td>115-1</td>\n",
       "      <td>151645</td>\n",
       "      <td>67160</td>\n",
       "      <td>80297</td>\n",
       "      <td>Бластомилонит</td>\n",
       "      <td>4.851293</td>\n",
       "      <td>3.556680</td>\n",
       "      <td>1.765827</td>\n",
       "    </tr>\n",
       "    <tr>\n",
       "      <th>36</th>\n",
       "      <td>12-4а</td>\n",
       "      <td>339659</td>\n",
       "      <td>134764</td>\n",
       "      <td>186008</td>\n",
       "      <td>Катаклазит</td>\n",
       "      <td>6.453232</td>\n",
       "      <td>3.479969</td>\n",
       "      <td>1.713901</td>\n",
       "    </tr>\n",
       "    <tr>\n",
       "      <th>37</th>\n",
       "      <td>12-4б</td>\n",
       "      <td>225105</td>\n",
       "      <td>88148</td>\n",
       "      <td>125293</td>\n",
       "      <td>Катаклазит</td>\n",
       "      <td>6.409966</td>\n",
       "      <td>3.472553</td>\n",
       "      <td>1.712211</td>\n",
       "    </tr>\n",
       "    <tr>\n",
       "      <th>38</th>\n",
       "      <td>13-1а</td>\n",
       "      <td>147234</td>\n",
       "      <td>50841</td>\n",
       "      <td>82378</td>\n",
       "      <td>Бластокатаклазит</td>\n",
       "      <td>5.564677</td>\n",
       "      <td>3.670874</td>\n",
       "      <td>1.784723</td>\n",
       "    </tr>\n",
       "    <tr>\n",
       "      <th>39</th>\n",
       "      <td>13-1б</td>\n",
       "      <td>233268</td>\n",
       "      <td>84357</td>\n",
       "      <td>126611</td>\n",
       "      <td>Бластокатаклазит</td>\n",
       "      <td>4.168336</td>\n",
       "      <td>3.598565</td>\n",
       "      <td>1.762368</td>\n",
       "    </tr>\n",
       "    <tr>\n",
       "      <th>40</th>\n",
       "      <td>13-2а</td>\n",
       "      <td>264298</td>\n",
       "      <td>85433</td>\n",
       "      <td>146983</td>\n",
       "      <td>Катаклазит</td>\n",
       "      <td>4.181889</td>\n",
       "      <td>3.707522</td>\n",
       "      <td>1.775373</td>\n",
       "    </tr>\n",
       "    <tr>\n",
       "      <th>41</th>\n",
       "      <td>13-2б</td>\n",
       "      <td>261552</td>\n",
       "      <td>102121</td>\n",
       "      <td>145706</td>\n",
       "      <td>Катаклазит</td>\n",
       "      <td>4.305138</td>\n",
       "      <td>3.651927</td>\n",
       "      <td>1.781932</td>\n",
       "    </tr>\n",
       "    <tr>\n",
       "      <th>42</th>\n",
       "      <td>14-10а</td>\n",
       "      <td>334840</td>\n",
       "      <td>105125</td>\n",
       "      <td>179516</td>\n",
       "      <td>Бластомилонит</td>\n",
       "      <td>3.953075</td>\n",
       "      <td>3.694208</td>\n",
       "      <td>1.775072</td>\n",
       "    </tr>\n",
       "    <tr>\n",
       "      <th>43</th>\n",
       "      <td>14-11а</td>\n",
       "      <td>269056</td>\n",
       "      <td>109338</td>\n",
       "      <td>139083</td>\n",
       "      <td>Милонит</td>\n",
       "      <td>3.882300</td>\n",
       "      <td>3.604626</td>\n",
       "      <td>1.804865</td>\n",
       "    </tr>\n",
       "    <tr>\n",
       "      <th>44</th>\n",
       "      <td>14-11б</td>\n",
       "      <td>211967</td>\n",
       "      <td>91632</td>\n",
       "      <td>113571</td>\n",
       "      <td>Милонит</td>\n",
       "      <td>3.930434</td>\n",
       "      <td>3.611398</td>\n",
       "      <td>1.765111</td>\n",
       "    </tr>\n",
       "    <tr>\n",
       "      <th>45</th>\n",
       "      <td>14-12а</td>\n",
       "      <td>159481</td>\n",
       "      <td>67168</td>\n",
       "      <td>85428</td>\n",
       "      <td>Бластокатаклазит</td>\n",
       "      <td>4.149025</td>\n",
       "      <td>3.570350</td>\n",
       "      <td>1.722679</td>\n",
       "    </tr>\n",
       "    <tr>\n",
       "      <th>46</th>\n",
       "      <td>14-12б</td>\n",
       "      <td>279056</td>\n",
       "      <td>107784</td>\n",
       "      <td>150132</td>\n",
       "      <td>Бластокатаклазит</td>\n",
       "      <td>4.181867</td>\n",
       "      <td>3.490823</td>\n",
       "      <td>1.829314</td>\n",
       "    </tr>\n",
       "    <tr>\n",
       "      <th>47</th>\n",
       "      <td>14-13а</td>\n",
       "      <td>219885</td>\n",
       "      <td>106884</td>\n",
       "      <td>117673</td>\n",
       "      <td>Бластомилонит</td>\n",
       "      <td>4.258287</td>\n",
       "      <td>3.417501</td>\n",
       "      <td>1.788015</td>\n",
       "    </tr>\n",
       "    <tr>\n",
       "      <th>48</th>\n",
       "      <td>14-13б</td>\n",
       "      <td>275041</td>\n",
       "      <td>116560</td>\n",
       "      <td>150044</td>\n",
       "      <td>Бластомилонит</td>\n",
       "      <td>3.957530</td>\n",
       "      <td>3.489510</td>\n",
       "      <td>1.799110</td>\n",
       "    </tr>\n",
       "    <tr>\n",
       "      <th>49</th>\n",
       "      <td>14-14а</td>\n",
       "      <td>441819</td>\n",
       "      <td>137747</td>\n",
       "      <td>240584</td>\n",
       "      <td>Бластомилонит</td>\n",
       "      <td>3.999803</td>\n",
       "      <td>3.674004</td>\n",
       "      <td>1.787861</td>\n",
       "    </tr>\n",
       "  </tbody>\n",
       "</table>\n",
       "</div>"
      ],
      "text/plain": [
       "         name  X_nodes  I_nodes  Y_nodes     tectonic_type  entropy_L_az  \\\n",
       "0         0-2   235913   103164   135150           Милонит      4.160903   \n",
       "1   1-1_2018а   294580   106169   165746        Катаклазит      6.014232   \n",
       "2   1-1_2018б   288173   110442   161043        Катаклазит      5.563611   \n",
       "3       10-1а   157221    77208    83288        Катаклазит      4.764944   \n",
       "4       10-1б    70647    34710    39450        Катаклазит      5.539817   \n",
       "5       10-2а   417217   140163   232656        Катаклазит      4.096968   \n",
       "6       10-2б   238923    78533   132476        Катаклазит      4.062924   \n",
       "7       10-3а   167002    88570    91241        Катаклазит      4.205908   \n",
       "8       10-3б   177188    93723    98700        Катаклазит      4.174707   \n",
       "9       100-1    93185    50708    52067  Вмещающая порода      5.446004   \n",
       "10      101-1   142022    73729    85319  Вмещающая порода      5.604230   \n",
       "11      102-1   170266    77155   103995  Вмещающая порода      5.888412   \n",
       "12      104-1    97218    81537    50378        Катаклазит      5.488272   \n",
       "13      104-2   145213    77743    82923        Катаклазит      5.288602   \n",
       "14      105-1   210627    85132   117944        Катаклазит      5.189531   \n",
       "15      105-4   132353    90835    74515        Катаклазит      4.044211   \n",
       "16      107-1   231174   115657   124421        Катаклазит      5.625612   \n",
       "17      108-1   294214    94927   160490     Бластомилонит      5.803737   \n",
       "18        10а   161394    80641    94205  Вмещающая порода      4.192396   \n",
       "19        10б   165705    74428    95131  Вмещающая порода      4.216791   \n",
       "20      11-1а    74337    38228    40776        Катаклазит      5.612713   \n",
       "21      11-1б    69855    40068    37758        Катаклазит      5.241615   \n",
       "22      11-2а    85998    70377    46840        Катаклазит      4.209143   \n",
       "23      11-2б   133336    84535    72364        Катаклазит      4.174242   \n",
       "24      11-3а   250066   100607   138788        Катаклазит      4.159426   \n",
       "25      11-3б   107025    66699    59446        Катаклазит      4.218930   \n",
       "26      110-1    73143    63174    42548        Катаклазит      5.987165   \n",
       "27      110-2   119925    91930    71654        Катаклазит      5.640003   \n",
       "28      112-1   179133   107366   108474        Катаклазит      5.935780   \n",
       "29      112-2   218048   126420   129436           Милонит      5.324687   \n",
       "30      113-3   219068   100200   124668        Катаклазит      5.631377   \n",
       "31      113-4   233010    77018   131555        Катаклазит      5.667225   \n",
       "32      113-5   244114   109135   128720  Бластокатаклазит      5.130823   \n",
       "33     114-1а   204414    72317   111973  Бластокатаклазит      5.656112   \n",
       "34     114-1б   102239    74721    55771  Бластокатаклазит      3.831199   \n",
       "35      115-1   151645    67160    80297     Бластомилонит      4.851293   \n",
       "36      12-4а   339659   134764   186008        Катаклазит      6.453232   \n",
       "37      12-4б   225105    88148   125293        Катаклазит      6.409966   \n",
       "38      13-1а   147234    50841    82378  Бластокатаклазит      5.564677   \n",
       "39      13-1б   233268    84357   126611  Бластокатаклазит      4.168336   \n",
       "40      13-2а   264298    85433   146983        Катаклазит      4.181889   \n",
       "41      13-2б   261552   102121   145706        Катаклазит      4.305138   \n",
       "42     14-10а   334840   105125   179516     Бластомилонит      3.953075   \n",
       "43     14-11а   269056   109338   139083           Милонит      3.882300   \n",
       "44     14-11б   211967    91632   113571           Милонит      3.930434   \n",
       "45     14-12а   159481    67168    85428  Бластокатаклазит      4.149025   \n",
       "46     14-12б   279056   107784   150132  Бластокатаклазит      4.181867   \n",
       "47     14-13а   219885   106884   117673     Бластомилонит      4.258287   \n",
       "48     14-13б   275041   116560   150044     Бластомилонит      3.957530   \n",
       "49     14-14а   441819   137747   240584     Бластомилонит      3.999803   \n",
       "\n",
       "    entropy_rho_az  frac_dim  \n",
       "0         3.599244  1.750249  \n",
       "1         3.659852  1.804752  \n",
       "2         3.646521  1.805672  \n",
       "3         3.522593  1.762179  \n",
       "4         3.540657  1.754565  \n",
       "5         3.646767  1.776841  \n",
       "6         3.650079  1.783798  \n",
       "7         3.567362  1.744097  \n",
       "8         3.640507  1.758653  \n",
       "9         3.539769  1.713521  \n",
       "10        3.534237  1.759341  \n",
       "11        3.551127  1.772276  \n",
       "12        3.340288  1.716173  \n",
       "13        3.539866  1.756485  \n",
       "14        3.673064  1.791833  \n",
       "15        3.506036  1.742695  \n",
       "16        3.375889  1.789650  \n",
       "17        3.668808  1.824972  \n",
       "18        3.524599  1.722727  \n",
       "19        3.586469  1.725424  \n",
       "20        3.521022  1.740148  \n",
       "21        3.372707  1.745280  \n",
       "22        3.462877  1.685469  \n",
       "23        3.499446  1.720713  \n",
       "24        3.674140  1.785130  \n",
       "25        3.517001  1.689152  \n",
       "26        3.326751  1.694105  \n",
       "27        3.260543  1.723425  \n",
       "28        3.518022  1.767590  \n",
       "29        3.522553  1.788250  \n",
       "30        3.592781  1.785662  \n",
       "31        3.700265  1.800433  \n",
       "32        3.568641  1.796663  \n",
       "33        3.552115  1.805300  \n",
       "34        3.499538  1.741261  \n",
       "35        3.556680  1.765827  \n",
       "36        3.479969  1.713901  \n",
       "37        3.472553  1.712211  \n",
       "38        3.670874  1.784723  \n",
       "39        3.598565  1.762368  \n",
       "40        3.707522  1.775373  \n",
       "41        3.651927  1.781932  \n",
       "42        3.694208  1.775072  \n",
       "43        3.604626  1.804865  \n",
       "44        3.611398  1.765111  \n",
       "45        3.570350  1.722679  \n",
       "46        3.490823  1.829314  \n",
       "47        3.417501  1.788015  \n",
       "48        3.489510  1.799110  \n",
       "49        3.674004  1.787861  "
      ]
     },
     "execution_count": 39,
     "metadata": {},
     "output_type": "execute_result"
    }
   ],
   "source": [
    "# текущая таблица\n",
    "df = pd.read_csv('ALL_params_table.csv')\n",
    "df = df.drop(df.columns[0], axis=1)\n",
    "df.head(50)"
   ]
  },
  {
   "cell_type": "code",
   "execution_count": 9,
   "id": "296670be-929c-4a8b-9ed8-f7a94a6a6517",
   "metadata": {},
   "outputs": [],
   "source": [
    "# словарь, соответствующий текущей таблице\n",
    "d = df.to_dict(orient='list')\n",
    "# d"
   ]
  },
  {
   "cell_type": "code",
   "execution_count": 10,
   "id": "eabec35d-d56b-4ac5-baa3-787454bed35c",
   "metadata": {},
   "outputs": [
    {
     "data": {
      "application/vnd.jupyter.widget-view+json": {
       "model_id": "cf19f870ad8749d1a16beb4c72716c4a",
       "version_major": 2,
       "version_minor": 0
      },
      "text/plain": [
       "  0%|          | 0/226 [00:00<?, ?it/s]"
      ]
     },
     "metadata": {},
     "output_type": "display_data"
    }
   ],
   "source": [
    "# список атрибутов, которые нужно добавить в таблицу\n",
    "attributes = ['frac_dim']\n",
    "\n",
    "# проверка что нужного атрибута действительно нет в таблице\n",
    "for attr in attributes:\n",
    "    assert attr not in d, f'The attribute \"{attr}\" already exist in table'\n",
    "\n",
    "for filename in tqdm(os.listdir(path_to_pickle_files)):\n",
    "    # чтение имеющихся pickle файлов\n",
    "    file = open(path_to_pickle_files + filename, 'rb')\n",
    "    data = pickle.load(file)\n",
    "    file.close()\n",
    "    \n",
    "    for attr in attributes:\n",
    "        assert attr in vars(data), f'There is no attribute \"{attr}\" in pickle files'\n",
    "        attr_value = vars(data)[attr]  # значение атрибута из pickle файла\n",
    "        \n",
    "        if attr not in d:\n",
    "            d[attr] = [attr_value]\n",
    "        else:\n",
    "            d[attr].append(attr_value)"
   ]
  },
  {
   "cell_type": "code",
   "execution_count": 11,
   "id": "6a7a59cb-dcab-4815-ba49-a55038939e72",
   "metadata": {},
   "outputs": [],
   "source": [
    "d_df = pd.DataFrame(d) \n",
    "d_df.to_csv('ALL_params_table.csv')"
   ]
  },
  {
   "cell_type": "code",
   "execution_count": null,
   "id": "964285a1-cc64-4038-aca3-8c9fb8dfe0a5",
   "metadata": {},
   "outputs": [],
   "source": []
  },
  {
   "cell_type": "code",
   "execution_count": null,
   "id": "7e690e3c-b7bc-447a-ad8b-1812f563bfbb",
   "metadata": {},
   "outputs": [],
   "source": []
  },
  {
   "cell_type": "code",
   "execution_count": null,
   "id": "b980edbb-c2c6-4502-9e26-e4ad3276ddad",
   "metadata": {},
   "outputs": [],
   "source": []
  },
  {
   "cell_type": "code",
   "execution_count": null,
   "id": "e4c98565-9671-4458-97f1-510ce6e725b4",
   "metadata": {},
   "outputs": [],
   "source": []
  },
  {
   "cell_type": "code",
   "execution_count": null,
   "id": "3fda3cb7-4a04-4a10-aa31-7a4d67147f92",
   "metadata": {},
   "outputs": [],
   "source": []
  },
  {
   "cell_type": "code",
   "execution_count": null,
   "id": "4e13d2c5-4d77-4cc1-b4db-dfb6bf8c7894",
   "metadata": {},
   "outputs": [],
   "source": []
  },
  {
   "cell_type": "code",
   "execution_count": null,
   "id": "2234f8b3-74e3-4415-b2f6-7f76183c0ce3",
   "metadata": {},
   "outputs": [],
   "source": []
  },
  {
   "cell_type": "code",
   "execution_count": null,
   "id": "3352a7b3-9bf0-4867-9103-7af71e6cc7cf",
   "metadata": {},
   "outputs": [],
   "source": []
  },
  {
   "cell_type": "code",
   "execution_count": null,
   "id": "902f0f1f-aef2-41cd-bab4-ec1b97c259e5",
   "metadata": {},
   "outputs": [],
   "source": []
  },
  {
   "cell_type": "markdown",
   "id": "1b44cdd8-a4e0-41bc-95d5-35ee4ed7fc8f",
   "metadata": {},
   "source": [
    "# Comparsion"
   ]
  },
  {
   "cell_type": "code",
   "execution_count": 20,
   "id": "084079c6-a837-498f-a0be-5654f6457def",
   "metadata": {},
   "outputs": [],
   "source": [
    "path_to_pickle_files_1 = 'D:\\\\_pickle_files_all\\\\'\n",
    "path_to_pickle_files_2 = 'D:\\\\_pickle_files_tmp\\\\'\n",
    "\n",
    "k = 104\n",
    "filename = os.listdir(path_to_pickle_files_1)[k]\n",
    "file = open(path_to_pickle_files_1 + filename, 'rb')\n",
    "data1 = pickle.load(file)\n",
    "file.close()\n",
    "\n",
    "k2 = 0\n",
    "filename2 = os.listdir(path_to_pickle_files_2)[k2]\n",
    "file2 = open(path_to_pickle_files_2 + filename2, 'rb')\n",
    "data2 = pickle.load(file2)\n",
    "file2.close()"
   ]
  },
  {
   "cell_type": "code",
   "execution_count": 21,
   "id": "58c8eb73-aee5-4cde-b421-5a0d125c5459",
   "metadata": {},
   "outputs": [
    {
     "data": {
      "text/plain": [
       "3.6803019193937816"
      ]
     },
     "execution_count": 21,
     "metadata": {},
     "output_type": "execute_result"
    }
   ],
   "source": [
    "data1.entropy_rho_az"
   ]
  },
  {
   "cell_type": "code",
   "execution_count": 22,
   "id": "6aa3f19f-021f-48da-8882-4613471554e1",
   "metadata": {},
   "outputs": [
    {
     "data": {
      "text/plain": [
       "[127773, 44618, 72253]"
      ]
     },
     "execution_count": 22,
     "metadata": {},
     "output_type": "execute_result"
    }
   ],
   "source": [
    "data2.XIY_counts"
   ]
  },
  {
   "cell_type": "code",
   "execution_count": 23,
   "id": "cd95ae51-a1da-458e-9d4f-850e524a2a44",
   "metadata": {},
   "outputs": [
    {
     "data": {
      "text/plain": [
       "array([4., 2., 1., ..., 2., 2., 3.])"
      ]
     },
     "execution_count": 23,
     "metadata": {},
     "output_type": "execute_result"
    }
   ],
   "source": [
    "data2.intersections_counts"
   ]
  },
  {
   "cell_type": "code",
   "execution_count": 27,
   "id": "3c040e8b-5982-41c3-9dd8-0c747a9e45cb",
   "metadata": {},
   "outputs": [
    {
     "data": {
      "image/png": "[encoded data removed]",
      "text/plain": [
       "<Figure size 936x432 with 1 Axes>"
      ]
     },
     "metadata": {},
     "output_type": "display_data"
    }
   ],
   "source": [
    "plt.hist(data2.intersections_counts, \n",
    "         bins=len(np.unique(data2.intersections_counts)), density=True)\n",
    "\n",
    "plt.yscale('log')\n",
    "plt.xscale('log')\n",
    "None"
   ]
  },
  {
   "cell_type": "code",
   "execution_count": 31,
   "id": "b929660b-93bc-4b6c-9d58-6a195fbe0be1",
   "metadata": {},
   "outputs": [
    {
     "data": {
      "image/png": "[encoded data removed]",
      "text/plain": [
       "<Figure size 936x432 with 1 Axes>"
      ]
     },
     "metadata": {},
     "output_type": "display_data"
    }
   ],
   "source": [
    "data2.draw_length_MLE()"
   ]
  },
  {
   "cell_type": "code",
   "execution_count": 24,
   "id": "241aceb3-a26a-4f3e-9df7-c402f2beed53",
   "metadata": {},
   "outputs": [
    {
     "data": {
      "text/plain": [
       "[127773, 44618, 72253]"
      ]
     },
     "execution_count": 24,
     "metadata": {},
     "output_type": "execute_result"
    }
   ],
   "source": [
    "data2.XIY_counts"
   ]
  },
  {
   "cell_type": "code",
   "execution_count": 27,
   "id": "ecec53ec-ad6d-46a7-8efe-fb9318cbdd85",
   "metadata": {},
   "outputs": [
    {
     "data": {
      "text/plain": [
       "array([4., 2., 1., ..., 2., 2., 3.])"
      ]
     },
     "execution_count": 27,
     "metadata": {},
     "output_type": "execute_result"
    }
   ],
   "source": [
    "data2.intersections_counts"
   ]
  },
  {
   "cell_type": "code",
   "execution_count": 28,
   "id": "f77f9393-c677-4731-bc98-b991a1105ff6",
   "metadata": {},
   "outputs": [
    {
     "data": {
      "image/png": "[encoded data removed]",
      "text/plain": [
       "<Figure size 936x432 with 1 Axes>"
      ]
     },
     "metadata": {},
     "output_type": "display_data"
    }
   ],
   "source": [
    "plt.hist(data2.intersections_counts, \n",
    "         bins=len(np.unique(data2.intersections_counts)), density=True)\n",
    "\n",
    "plt.yscale('log')\n",
    "plt.xscale('log')\n",
    "\n",
    "None"
   ]
  },
  {
   "cell_type": "code",
   "execution_count": null,
   "id": "d0b12813-8b92-4207-bfb2-eb38557ae054",
   "metadata": {},
   "outputs": [],
   "source": []
  }
 ],
 "metadata": {
  "kernelspec": {
   "display_name": "Python 3",
   "language": "python",
   "name": "python3"
  },
  "language_info": {
   "codemirror_mode": {
    "name": "ipython",
    "version": 3
   },
   "file_extension": ".py",
   "mimetype": "text/x-python",
   "name": "python",
   "nbconvert_exporter": "python",
   "pygments_lexer": "ipython3",
   "version": "3.8.8"
  }
 },
 "nbformat": 4,
 "nbformat_minor": 5
}
